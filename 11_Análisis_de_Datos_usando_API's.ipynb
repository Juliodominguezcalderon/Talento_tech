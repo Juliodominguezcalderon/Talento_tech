{
  "nbformat": 4,
  "nbformat_minor": 0,
  "metadata": {
    "colab": {
      "provenance": [],
      "authorship_tag": "ABX9TyPe4JzQZXoy8fMDeDq4RAP8",
      "include_colab_link": true
    },
    "kernelspec": {
      "name": "python3",
      "display_name": "Python 3"
    },
    "language_info": {
      "name": "python"
    }
  },
  "cells": [
    {
      "cell_type": "markdown",
      "metadata": {
        "id": "view-in-github",
        "colab_type": "text"
      },
      "source": [
        "<a href=\"https://colab.research.google.com/github/Juliodominguezcalderon/Talento_tech/blob/main/11_An%C3%A1lisis_de_Datos_usando_API's.ipynb\" target=\"_parent\"><img src=\"https://colab.research.google.com/assets/colab-badge.svg\" alt=\"Open In Colab\"/></a>"
      ]
    },
    {
      "cell_type": "code",
      "source": [
        "!pip install googletrans==4.0.0-rc1"
      ],
      "metadata": {
        "collapsed": true,
        "colab": {
          "base_uri": "https://localhost:8080/"
        },
        "id": "QyOQ7wIs1y_m",
        "outputId": "66f7d9a3-4643-4cfc-dc79-4d6400205c76"
      },
      "execution_count": 24,
      "outputs": [
        {
          "output_type": "stream",
          "name": "stdout",
          "text": [
            "Requirement already satisfied: googletrans==4.0.0-rc1 in /usr/local/lib/python3.10/dist-packages (4.0.0rc1)\n",
            "Requirement already satisfied: httpx==0.13.3 in /usr/local/lib/python3.10/dist-packages (from googletrans==4.0.0-rc1) (0.13.3)\n",
            "Requirement already satisfied: certifi in /usr/local/lib/python3.10/dist-packages (from httpx==0.13.3->googletrans==4.0.0-rc1) (2024.8.30)\n",
            "Requirement already satisfied: hstspreload in /usr/local/lib/python3.10/dist-packages (from httpx==0.13.3->googletrans==4.0.0-rc1) (2024.12.1)\n",
            "Requirement already satisfied: sniffio in /usr/local/lib/python3.10/dist-packages (from httpx==0.13.3->googletrans==4.0.0-rc1) (1.3.1)\n",
            "Requirement already satisfied: chardet==3.* in /usr/local/lib/python3.10/dist-packages (from httpx==0.13.3->googletrans==4.0.0-rc1) (3.0.4)\n",
            "Requirement already satisfied: idna==2.* in /usr/local/lib/python3.10/dist-packages (from httpx==0.13.3->googletrans==4.0.0-rc1) (2.10)\n",
            "Requirement already satisfied: rfc3986<2,>=1.3 in /usr/local/lib/python3.10/dist-packages (from httpx==0.13.3->googletrans==4.0.0-rc1) (1.5.0)\n",
            "Requirement already satisfied: httpcore==0.9.* in /usr/local/lib/python3.10/dist-packages (from httpx==0.13.3->googletrans==4.0.0-rc1) (0.9.1)\n",
            "Requirement already satisfied: h11<0.10,>=0.8 in /usr/local/lib/python3.10/dist-packages (from httpcore==0.9.*->httpx==0.13.3->googletrans==4.0.0-rc1) (0.9.0)\n",
            "Requirement already satisfied: h2==3.* in /usr/local/lib/python3.10/dist-packages (from httpcore==0.9.*->httpx==0.13.3->googletrans==4.0.0-rc1) (3.2.0)\n",
            "Requirement already satisfied: hyperframe<6,>=5.2.0 in /usr/local/lib/python3.10/dist-packages (from h2==3.*->httpcore==0.9.*->httpx==0.13.3->googletrans==4.0.0-rc1) (5.2.0)\n",
            "Requirement already satisfied: hpack<4,>=3.0 in /usr/local/lib/python3.10/dist-packages (from h2==3.*->httpcore==0.9.*->httpx==0.13.3->googletrans==4.0.0-rc1) (3.0.0)\n"
          ]
        }
      ]
    },
    {
      "cell_type": "code",
      "execution_count": 32,
      "metadata": {
        "id": "t6dt2GCMyk7a"
      },
      "outputs": [],
      "source": [
        "#importamos las librerias a utilizar\n",
        "import requests\n",
        "import json\n",
        "import pandas as pd\n",
        "from googletrans import Translator"
      ]
    },
    {
      "cell_type": "code",
      "source": [
        "API_KEY = '040a37bd115fa036875a1fbc67709dac'  # Reemplazar con tu API Key de OpenWeather\n",
        "ciudad = 'Bogotá'\n",
        "#id_city = '3688689'\n",
        "#url = f'https://api.openweathermap.org/data/2.5/weather?id={id_city}&appid={API_KEY}&units=metric'\n",
        "url = f'http://api.openweathermap.org/data/2.5/weather?q={ciudad}&appid={API_KEY}&units=metric'\n",
        "respuesta = requests.get(url)\n",
        "respuesta"
      ],
      "metadata": {
        "colab": {
          "base_uri": "https://localhost:8080/"
        },
        "id": "1rrMhsaJzC0Q",
        "outputId": "7ad342e5-5e3e-4bf2-fa46-4a02857c5663"
      },
      "execution_count": 33,
      "outputs": [
        {
          "output_type": "execute_result",
          "data": {
            "text/plain": [
              "<Response [200]>"
            ]
          },
          "metadata": {},
          "execution_count": 33
        }
      ]
    },
    {
      "cell_type": "code",
      "source": [
        "translator = Translator()\n",
        "\n",
        "if respuesta.status_code == 200:\n",
        "    datos = respuesta.json()\n",
        "    if 'main' in datos and 'weather' in datos:\n",
        "        temperatura_actual = datos['main']['temp']\n",
        "        descripcion_clima = datos['weather'][0]['description']\n",
        "        print(f'Temperatura actual en {ciudad}: {temperatura_actual}°C')\n",
        "        traduccion = translator.translate(descripcion_clima, dest='es').text\n",
        "        print(f'Descripción del clima: {traduccion}')\n",
        "    else:\n",
        "        print('Error: No se encontraron los datos esperados en la respuesta.')\n",
        "else:\n",
        "    print(f'Error: No se pudo obtener los datos del clima. Código de estado: {respuesta.status_code}')\n",
        ""
      ],
      "metadata": {
        "colab": {
          "base_uri": "https://localhost:8080/"
        },
        "id": "yuYHjZdKznKS",
        "outputId": "88eb4d4f-3424-4acd-a2be-7734fd93444f"
      },
      "execution_count": 34,
      "outputs": [
        {
          "output_type": "stream",
          "name": "stdout",
          "text": [
            "Temperatura actual en Bogotá: 17.19°C\n",
            "Descripción del clima: nubes rotas\n"
          ]
        }
      ]
    },
    {
      "cell_type": "code",
      "source": [
        "# Reemplazar con tu API Key de OpenWeather\n",
        "API_KEY = '040a37bd115fa036875a1fbc67709dac'\n",
        "\n",
        "# Lista de ciudades colombianas\n",
        "ciudades = ['Bogota', 'Medellin', 'Cali', 'Barranquilla', 'Cartagena', 'Cúcuta', 'Bucaramanga', 'Pereira', 'Santa Marta', 'Sincelejo']\n",
        "\n",
        "# Lista para almacenar los datos de temperatura\n",
        "datos_temperatura = []\n",
        "\n",
        "for ciudad in ciudades:\n",
        "    url = f'http://api.openweathermap.org/data/2.5/weather?q={ciudad},CO&appid={API_KEY}&units=metric'\n",
        "    respuesta = requests.get(url)\n",
        "\n",
        "    if respuesta.status_code == 200:\n",
        "        datos = respuesta.json()\n",
        "        if 'main' in datos:\n",
        "            temperatura_actual = f\"{datos['main']['temp']} °C\"\n",
        "            datos_temperatura.append({'Ciudad': ciudad, 'Temperatura': temperatura_actual})\n",
        "        else:\n",
        "            print(f'Error: No se encontraron los datos de temperatura para {ciudad}.')\n",
        "    else:\n",
        "        print(f'Error: No se pudo obtener los datos del clima para {ciudad}. Código de estado: {respuesta.status_code}')\n",
        "\n",
        "# Crear un DataFrame de Pandas con los datos de temperatura\n",
        "df_temperatura = pd.DataFrame(datos_temperatura)\n",
        "\n",
        "print(df_temperatura)"
      ],
      "metadata": {
        "colab": {
          "base_uri": "https://localhost:8080/"
        },
        "id": "rFZwvuIF0Dz6",
        "outputId": "ffc59808-f8f5-42e6-8336-2cb36acd58e1"
      },
      "execution_count": 35,
      "outputs": [
        {
          "output_type": "stream",
          "name": "stdout",
          "text": [
            "         Ciudad Temperatura\n",
            "0        Bogota    17.19 °C\n",
            "1      Medellin    24.49 °C\n",
            "2          Cali    24.44 °C\n",
            "3  Barranquilla    30.88 °C\n",
            "4     Cartagena    31.79 °C\n",
            "5        Cúcuta    31.97 °C\n",
            "6   Bucaramanga    24.49 °C\n",
            "7       Pereira    20.58 °C\n",
            "8   Santa Marta    31.33 °C\n",
            "9     Sincelejo    29.52 °C\n"
          ]
        }
      ]
    }
  ]
}