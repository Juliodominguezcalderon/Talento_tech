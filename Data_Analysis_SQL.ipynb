{
  "cells": [
    {
      "cell_type": "markdown",
      "metadata": {
        "id": "view-in-github",
        "colab_type": "text"
      },
      "source": [
        "<a href=\"https://colab.research.google.com/github/Juliodominguezcalderon/Talento_tech/blob/main/Data_Analysis_SQL.ipynb\" target=\"_parent\"><img src=\"https://colab.research.google.com/assets/colab-badge.svg\" alt=\"Open In Colab\"/></a>"
      ]
    },
    {
      "cell_type": "markdown",
      "metadata": {
        "_cell_guid": "506bd974-9157-4cc8-a410-cabca6a0f459",
        "_uuid": "fac40b1c1c9e035e1b5d31fb5c702a2c7cc799a1",
        "id": "F9Yu0qtxbtcy"
      },
      "source": [
        "# INTRODUCCIÓN\n",
        "\n",
        "Usaré esta notebook para proporcionar una introducción a SQL, lenguaje imprescindible para todo analista de datos.\n",
        "\n",
        "Los sistemas gestores de bases de datos interpretan consultas escritas en lenguaje SQL, y así es como interactuamos y obtenemos datos de las bases de datos y aplicaciones.\n",
        "\n",
        "* SQL significa Structured Query Language (Lenguaje de consulta estructurado)\n",
        "* SQL permite acceder y manipular bases de datos\n",
        "* SQL es una herramienta simple para el análisis avanzado de datos\n",
        "\n",
        "SQL no se usa sólo para manipular datos, sino también para administrar la misma base de datos, crear y modificar el diseño de objetos de la base de datos, como tablas. El elemento de SQL que se usa para crear y modificar objetos de base de datos se denomina lenguaje de definición de datos (DDL). Este curso no trata DDL.\n",
        "\n",
        "En esta notebook veremos cómo trabajar/manipular tablas. Aprenderemos a usar SQL para interactuar con una base de datos de fútbol europeo y generar información interesante con sus datos.\n",
        "\n",
        "La base de datos utilizada, pueder ser encontrada [aquí](https://www.kaggle.com/hugomathien/soccer)"
      ]
    },
    {
      "cell_type": "markdown",
      "metadata": {
        "_cell_guid": "581b0fb8-9fe2-475f-a651-1f308d996401",
        "_uuid": "c01b2a7d26a3bc74f8a5fefd5b5e457265e99aab",
        "id": "_0hFQ32dbtcz"
      },
      "source": [
        "## 1.1 Definiciones importantes\n",
        "\n",
        "Aunque SQL es un estándar ANSI/ISO, existen diferentes versiones del lenguaje SQL.\n",
        "Sin embargo, para cumplir con el estándar del American National Standards Institute (ANSI), todas las versiones deben soportar al menos los comandos principales (como `SELECT`, `UPDATE`, `DELETE`, `INSERT`, `WHERE`) de forma similar.\n",
        "\n",
        "En este caso, vamos a trabajar con SQLite que es una implementación específica. La mayoría de los lenguajes SQL comparten todas las capacidades de este notebook. Las diferencias suelen estar en el rendimiento y en las funcionalidades analíticas avanzadas (y a veces en los errores, por supuesto)."
      ]
    },
    {
      "cell_type": "markdown",
      "metadata": {
        "id": "YMjgPPqJbtcz"
      },
      "source": [
        "## 1.2 ¿Qué es SQLite?\n",
        "SQLite es una biblioteca de software que proporciona un sistema de gestión de bases de datos relacionales que se puede utilizar en casi todos los lenguajes de programación, incluido Python.\n",
        "\n",
        "El lite en SQLite significa facilidad en términos de configuración, administración de la base de datos y recursos necesarios. Las siguientes son sus características más importantes: es autónomo, sin servidor y transaccional.\n",
        "\n",
        "Más información acerca de SQLite:\n",
        "[https://www.sqlitetutorial.net/](https://www.sqlitetutorial.net/what-is-sqlite/)\n",
        "\n"
      ]
    },
    {
      "cell_type": "markdown",
      "metadata": {
        "id": "LIhvoXEWbtcz"
      },
      "source": [
        "### 1.2.1 Configuraciones previas\n",
        "\n",
        "SQLite se puede utilizar en casi todos los lenguajes de programación, incluido Python. Esta notebook corre en Python, por lo que vamos a importar la librería de SQLite y otras que nos pueden ser de utilidad más adelante.\n",
        "\n",
        "Asimismo, crearemos la conexión con la BD y listaremos las tablas con las que contamos.\n",
        "\n",
        "Ejecuta (haciendo clic en ejecutar o Shift+Enter) el códido de abajo"
      ]
    },
    {
      "cell_type": "code",
      "execution_count": null,
      "metadata": {
        "_cell_guid": "b24c5690-a816-45cf-b9d2-51a7a9e0a4f5",
        "_kg_hide-input": false,
        "_uuid": "81e2c6b2403df820374e6c93416d15182c7dc28b",
        "colab": {
          "base_uri": "https://localhost:8080/",
          "height": 318
        },
        "id": "bB2Z1WEzbtcz",
        "outputId": "39ca7378-008c-4e0a-b3a3-561af825c277",
        "trusted": true
      },
      "outputs": [
        {
          "name": "stdout",
          "output_type": "stream",
          "text": [
            "Conexión exitosa\n"
          ]
        },
        {
          "data": {
            "text/html": [
              "<div>\n",
              "<style scoped>\n",
              "    .dataframe tbody tr th:only-of-type {\n",
              "        vertical-align: middle;\n",
              "    }\n",
              "\n",
              "    .dataframe tbody tr th {\n",
              "        vertical-align: top;\n",
              "    }\n",
              "\n",
              "    .dataframe thead th {\n",
              "        text-align: right;\n",
              "    }\n",
              "</style>\n",
              "<table border=\"1\" class=\"dataframe\">\n",
              "  <thead>\n",
              "    <tr style=\"text-align: right;\">\n",
              "      <th></th>\n",
              "      <th>type</th>\n",
              "      <th>name</th>\n",
              "      <th>tbl_name</th>\n",
              "      <th>rootpage</th>\n",
              "      <th>sql</th>\n",
              "    </tr>\n",
              "  </thead>\n",
              "  <tbody>\n",
              "    <tr>\n",
              "      <th>0</th>\n",
              "      <td>table</td>\n",
              "      <td>sqlite_sequence</td>\n",
              "      <td>sqlite_sequence</td>\n",
              "      <td>4</td>\n",
              "      <td>CREATE TABLE sqlite_sequence(name,seq)</td>\n",
              "    </tr>\n",
              "    <tr>\n",
              "      <th>1</th>\n",
              "      <td>table</td>\n",
              "      <td>Player_Attributes</td>\n",
              "      <td>Player_Attributes</td>\n",
              "      <td>11</td>\n",
              "      <td>CREATE TABLE \"Player_Attributes\" (\\n\\t`id`\\tIN...</td>\n",
              "    </tr>\n",
              "    <tr>\n",
              "      <th>2</th>\n",
              "      <td>table</td>\n",
              "      <td>Player</td>\n",
              "      <td>Player</td>\n",
              "      <td>14</td>\n",
              "      <td>CREATE TABLE `Player` (\\n\\t`id`\\tINTEGER PRIMA...</td>\n",
              "    </tr>\n",
              "    <tr>\n",
              "      <th>3</th>\n",
              "      <td>table</td>\n",
              "      <td>Match</td>\n",
              "      <td>Match</td>\n",
              "      <td>18</td>\n",
              "      <td>CREATE TABLE `Match` (\\n\\t`id`\\tINTEGER PRIMAR...</td>\n",
              "    </tr>\n",
              "    <tr>\n",
              "      <th>4</th>\n",
              "      <td>table</td>\n",
              "      <td>League</td>\n",
              "      <td>League</td>\n",
              "      <td>24</td>\n",
              "      <td>CREATE TABLE `League` (\\n\\t`id`\\tINTEGER PRIMA...</td>\n",
              "    </tr>\n",
              "    <tr>\n",
              "      <th>5</th>\n",
              "      <td>table</td>\n",
              "      <td>Country</td>\n",
              "      <td>Country</td>\n",
              "      <td>26</td>\n",
              "      <td>CREATE TABLE `Country` (\\n\\t`id`\\tINTEGER PRIM...</td>\n",
              "    </tr>\n",
              "    <tr>\n",
              "      <th>6</th>\n",
              "      <td>table</td>\n",
              "      <td>Team</td>\n",
              "      <td>Team</td>\n",
              "      <td>29</td>\n",
              "      <td>CREATE TABLE \"Team\" (\\n\\t`id`\\tINTEGER PRIMARY...</td>\n",
              "    </tr>\n",
              "    <tr>\n",
              "      <th>7</th>\n",
              "      <td>table</td>\n",
              "      <td>Team_Attributes</td>\n",
              "      <td>Team_Attributes</td>\n",
              "      <td>2</td>\n",
              "      <td>CREATE TABLE `Team_Attributes` (\\n\\t`id`\\tINTE...</td>\n",
              "    </tr>\n",
              "  </tbody>\n",
              "</table>\n",
              "</div>"
            ],
            "text/plain": [
              "    type               name           tbl_name  rootpage  \\\n",
              "0  table    sqlite_sequence    sqlite_sequence         4   \n",
              "1  table  Player_Attributes  Player_Attributes        11   \n",
              "2  table             Player             Player        14   \n",
              "3  table              Match              Match        18   \n",
              "4  table             League             League        24   \n",
              "5  table            Country            Country        26   \n",
              "6  table               Team               Team        29   \n",
              "7  table    Team_Attributes    Team_Attributes         2   \n",
              "\n",
              "                                                 sql  \n",
              "0             CREATE TABLE sqlite_sequence(name,seq)  \n",
              "1  CREATE TABLE \"Player_Attributes\" (\\n\\t`id`\\tIN...  \n",
              "2  CREATE TABLE `Player` (\\n\\t`id`\\tINTEGER PRIMA...  \n",
              "3  CREATE TABLE `Match` (\\n\\t`id`\\tINTEGER PRIMAR...  \n",
              "4  CREATE TABLE `League` (\\n\\t`id`\\tINTEGER PRIMA...  \n",
              "5  CREATE TABLE `Country` (\\n\\t`id`\\tINTEGER PRIM...  \n",
              "6  CREATE TABLE \"Team\" (\\n\\t`id`\\tINTEGER PRIMARY...  \n",
              "7  CREATE TABLE `Team_Attributes` (\\n\\t`id`\\tINTE...  "
            ]
          },
          "execution_count": 3,
          "metadata": {},
          "output_type": "execute_result"
        }
      ],
      "source": [
        "#Importación de librerías\n",
        "\n",
        "import pandas as pd # libreria de python para manipulacion de datos\n",
        "import sqlite3 # SQLite\n",
        "\n",
        "# Los datos de entrada están disponibles en el directorio \"../input/\".\n",
        "\n",
        "path = 'C:/Users/USUARIO/OneDrive/Desktop/Análisis de Datos/Módulo Técnico/database.sqlite'\n",
        "database = path\n",
        "\n",
        "# Creamos la conexión con la BD y listaremos las tablas con las que contamos\n",
        "\n",
        "conn = sqlite3.connect(database)\n",
        "print (\"Conexión exitosa\")\n",
        "\n",
        "tables = pd.read_sql(\"\"\"SELECT *\n",
        "                        FROM sqlite_master\n",
        "                        WHERE type='table';\"\"\", conn)\n",
        "tables"
      ]
    },
    {
      "cell_type": "markdown",
      "metadata": {
        "_cell_guid": "1d749faa-7d12-40e1-96ce-de791dd28526",
        "_uuid": "aa75b8d7a97a5e878fb1482c80889abe8b7beb5b",
        "id": "5ZKb-jaEbtcz"
      },
      "source": [
        "# 2. Sentencia SELECT\n",
        "\n",
        "Esta es la consulta más básica y su estructura es muy simple:\n",
        "* Se define lo que se quiere ver después del `SELECT`\n",
        "* Se eligen las tablas a consultar después del `FROM`\n",
        "\n",
        "Las únicas partes imprescindibles de una consulta son el `SELECT` y el `FROM`.\n",
        "\n",
        "La sintaxis de esta consulta es así:\n",
        "\n",
        "`SELECT column1, column2, ...`\n",
        "\n",
        "`FROM table_name;`\n",
        "\n",
        "\n",
        "Para consultar por todos los campos en una tabla sin tener que escribir uno por uno el nombre de cada campo, se utiliza `SELECT *`\n",
        "\n",
        "\n",
        "`SELECT *` significa que quieres obtener todas las columnas posibles de la tabla consultada. Los datos devueltos se almacenan en una tabla de resultados, denominada conjunto de resultados.\n",
        "\n",
        "La sintaxis de esta consulta es así:\n",
        "\n",
        "`SELECT *`\n",
        "\n",
        "`FROM table_name;`\n",
        "\n",
        "Es una buena práctica terminar la consulta con un punto y coma para indicar que la consulta está completa. Las palabras clave se escriben en mayúsculas y los nombres de tablas y campos se escriben en minúsculas.\n",
        "\n",
        "## 2.1.1 Ejemplo: Listar los países\n",
        "\n",
        "Queremos consultar qué países se encuentran en la tabla `Country` de la base de datos del fútbol europeo.\n",
        "\n",
        "\n",
        "Importante: La estructura y el orden de las secciones son importantes, mientras que los espacios, las nuevas líneas, las mayúsculas y las sangrías están ahí para facilitar la lectura del código.\n",
        "\n",
        "Ejecuta (haciendo clic en ejecutar o Shift+Enter) el códido de abajo"
      ]
    },
    {
      "cell_type": "code",
      "execution_count": null,
      "metadata": {
        "colab": {
          "base_uri": "https://localhost:8080/",
          "height": 394
        },
        "id": "bskb-W8lbtcz",
        "outputId": "efe9f1e2-2271-4617-dbdc-b83ecdf92a9c",
        "trusted": true
      },
      "outputs": [
        {
          "data": {
            "text/html": [
              "<div>\n",
              "<style scoped>\n",
              "    .dataframe tbody tr th:only-of-type {\n",
              "        vertical-align: middle;\n",
              "    }\n",
              "\n",
              "    .dataframe tbody tr th {\n",
              "        vertical-align: top;\n",
              "    }\n",
              "\n",
              "    .dataframe thead th {\n",
              "        text-align: right;\n",
              "    }\n",
              "</style>\n",
              "<table border=\"1\" class=\"dataframe\">\n",
              "  <thead>\n",
              "    <tr style=\"text-align: right;\">\n",
              "      <th></th>\n",
              "      <th>id</th>\n",
              "      <th>name</th>\n",
              "    </tr>\n",
              "  </thead>\n",
              "  <tbody>\n",
              "    <tr>\n",
              "      <th>0</th>\n",
              "      <td>1</td>\n",
              "      <td>Belgium</td>\n",
              "    </tr>\n",
              "    <tr>\n",
              "      <th>1</th>\n",
              "      <td>1729</td>\n",
              "      <td>England</td>\n",
              "    </tr>\n",
              "    <tr>\n",
              "      <th>2</th>\n",
              "      <td>4769</td>\n",
              "      <td>France</td>\n",
              "    </tr>\n",
              "    <tr>\n",
              "      <th>3</th>\n",
              "      <td>7809</td>\n",
              "      <td>Germany</td>\n",
              "    </tr>\n",
              "    <tr>\n",
              "      <th>4</th>\n",
              "      <td>10257</td>\n",
              "      <td>Italy</td>\n",
              "    </tr>\n",
              "    <tr>\n",
              "      <th>5</th>\n",
              "      <td>13274</td>\n",
              "      <td>Netherlands</td>\n",
              "    </tr>\n",
              "    <tr>\n",
              "      <th>6</th>\n",
              "      <td>15722</td>\n",
              "      <td>Poland</td>\n",
              "    </tr>\n",
              "    <tr>\n",
              "      <th>7</th>\n",
              "      <td>17642</td>\n",
              "      <td>Portugal</td>\n",
              "    </tr>\n",
              "    <tr>\n",
              "      <th>8</th>\n",
              "      <td>19694</td>\n",
              "      <td>Scotland</td>\n",
              "    </tr>\n",
              "    <tr>\n",
              "      <th>9</th>\n",
              "      <td>21518</td>\n",
              "      <td>Spain</td>\n",
              "    </tr>\n",
              "    <tr>\n",
              "      <th>10</th>\n",
              "      <td>24558</td>\n",
              "      <td>Switzerland</td>\n",
              "    </tr>\n",
              "  </tbody>\n",
              "</table>\n",
              "</div>"
            ],
            "text/plain": [
              "       id         name\n",
              "0       1      Belgium\n",
              "1    1729      England\n",
              "2    4769       France\n",
              "3    7809      Germany\n",
              "4   10257        Italy\n",
              "5   13274  Netherlands\n",
              "6   15722       Poland\n",
              "7   17642     Portugal\n",
              "8   19694     Scotland\n",
              "9   21518        Spain\n",
              "10  24558  Switzerland"
            ]
          },
          "execution_count": 4,
          "metadata": {},
          "output_type": "execute_result"
        }
      ],
      "source": [
        "query = \"\"\"SELECT *\n",
        "            FROM Country;\"\"\"\n",
        "\n",
        "countries = pd.read_sql(query, conn)\n",
        "countries"
      ]
    },
    {
      "cell_type": "markdown",
      "metadata": {
        "id": "vbYS2tUMbtc0"
      },
      "source": [
        "## 2.1.2 Práctica: Listar las ligas del fútbol europeo\n",
        "\n",
        "Deben listar todas las ligas que estén en la tabla `League` de la base de datos de fútbol europeo.\n",
        "\n",
        "Para ello deberán escribir la consulta SQL entre un par de 3 comillas dobles: `\"\"\"consulta SQL\"\"\"`  justo después de la palabra `query =`\n",
        "\n",
        "Una vez que estén lo tengan listo, ejecuten haciendo clic en ejecutar (o Shift+Enter) el códido de abajo"
      ]
    },
    {
      "cell_type": "code",
      "execution_count": null,
      "metadata": {
        "colab": {
          "base_uri": "https://localhost:8080/",
          "height": 394
        },
        "id": "dWciygVQbtc0",
        "outputId": "ce86288c-e330-4255-dfe0-33c8a84a570c",
        "trusted": true
      },
      "outputs": [
        {
          "data": {
            "text/html": [
              "<div>\n",
              "<style scoped>\n",
              "    .dataframe tbody tr th:only-of-type {\n",
              "        vertical-align: middle;\n",
              "    }\n",
              "\n",
              "    .dataframe tbody tr th {\n",
              "        vertical-align: top;\n",
              "    }\n",
              "\n",
              "    .dataframe thead th {\n",
              "        text-align: right;\n",
              "    }\n",
              "</style>\n",
              "<table border=\"1\" class=\"dataframe\">\n",
              "  <thead>\n",
              "    <tr style=\"text-align: right;\">\n",
              "      <th></th>\n",
              "      <th>id</th>\n",
              "      <th>country_id</th>\n",
              "      <th>name</th>\n",
              "    </tr>\n",
              "  </thead>\n",
              "  <tbody>\n",
              "    <tr>\n",
              "      <th>0</th>\n",
              "      <td>1</td>\n",
              "      <td>1</td>\n",
              "      <td>Belgium Jupiler League</td>\n",
              "    </tr>\n",
              "    <tr>\n",
              "      <th>1</th>\n",
              "      <td>1729</td>\n",
              "      <td>1729</td>\n",
              "      <td>England Premier League</td>\n",
              "    </tr>\n",
              "    <tr>\n",
              "      <th>2</th>\n",
              "      <td>4769</td>\n",
              "      <td>4769</td>\n",
              "      <td>France Ligue 1</td>\n",
              "    </tr>\n",
              "    <tr>\n",
              "      <th>3</th>\n",
              "      <td>7809</td>\n",
              "      <td>7809</td>\n",
              "      <td>Germany 1. Bundesliga</td>\n",
              "    </tr>\n",
              "    <tr>\n",
              "      <th>4</th>\n",
              "      <td>10257</td>\n",
              "      <td>10257</td>\n",
              "      <td>Italy Serie A</td>\n",
              "    </tr>\n",
              "    <tr>\n",
              "      <th>5</th>\n",
              "      <td>13274</td>\n",
              "      <td>13274</td>\n",
              "      <td>Netherlands Eredivisie</td>\n",
              "    </tr>\n",
              "    <tr>\n",
              "      <th>6</th>\n",
              "      <td>15722</td>\n",
              "      <td>15722</td>\n",
              "      <td>Poland Ekstraklasa</td>\n",
              "    </tr>\n",
              "    <tr>\n",
              "      <th>7</th>\n",
              "      <td>17642</td>\n",
              "      <td>17642</td>\n",
              "      <td>Portugal Liga ZON Sagres</td>\n",
              "    </tr>\n",
              "    <tr>\n",
              "      <th>8</th>\n",
              "      <td>19694</td>\n",
              "      <td>19694</td>\n",
              "      <td>Scotland Premier League</td>\n",
              "    </tr>\n",
              "    <tr>\n",
              "      <th>9</th>\n",
              "      <td>21518</td>\n",
              "      <td>21518</td>\n",
              "      <td>Spain LIGA BBVA</td>\n",
              "    </tr>\n",
              "    <tr>\n",
              "      <th>10</th>\n",
              "      <td>24558</td>\n",
              "      <td>24558</td>\n",
              "      <td>Switzerland Super League</td>\n",
              "    </tr>\n",
              "  </tbody>\n",
              "</table>\n",
              "</div>"
            ],
            "text/plain": [
              "       id  country_id                      name\n",
              "0       1           1    Belgium Jupiler League\n",
              "1    1729        1729    England Premier League\n",
              "2    4769        4769            France Ligue 1\n",
              "3    7809        7809     Germany 1. Bundesliga\n",
              "4   10257       10257             Italy Serie A\n",
              "5   13274       13274    Netherlands Eredivisie\n",
              "6   15722       15722        Poland Ekstraklasa\n",
              "7   17642       17642  Portugal Liga ZON Sagres\n",
              "8   19694       19694   Scotland Premier League\n",
              "9   21518       21518           Spain LIGA BBVA\n",
              "10  24558       24558  Switzerland Super League"
            ]
          },
          "execution_count": 5,
          "metadata": {},
          "output_type": "execute_result"
        }
      ],
      "source": [
        "#Ingrese la consulta SQL entre un par de 3 comillas dobles: \"\"\"consulta SQL\"\"\" justo después de la palabra query =\n",
        "\n",
        "query = \"\"\" SELECT * FROM League \"\"\"\n",
        "\n",
        "#No modificar lo siguiente:\n",
        "leagues = pd.read_sql(query, conn)\n",
        "leagues"
      ]
    },
    {
      "cell_type": "markdown",
      "metadata": {
        "id": "_1-Txj3jbtc0"
      },
      "source": [
        "## 2.1.3 Práctica: Listar los jugadores del fútbol europeo\n",
        "\n",
        "Deben listar los campos `id`,`player_name`, `birthday`, `height` y `weight` que estan en la tabla `Player` de la base de datos de Fútbol Europeo.\n",
        "\n",
        "Para ello deberán escribir la consulta SQL entre un par de 3 comillas dobles: `\"\"\"consulta SQL\"\"\"` después de la palabra `query =`\n",
        "\n",
        "Una vez que estén lo tengan listo, ejecuten (haciendo clic en ejecutar o Shift+Enter) el códido de abajo"
      ]
    },
    {
      "cell_type": "code",
      "execution_count": null,
      "metadata": {
        "colab": {
          "base_uri": "https://localhost:8080/",
          "height": 424
        },
        "id": "SbErD-tebtc0",
        "outputId": "29345865-bb00-4c5d-ad7d-409bfa8e6fb5",
        "trusted": true
      },
      "outputs": [
        {
          "data": {
            "text/html": [
              "<div>\n",
              "<style scoped>\n",
              "    .dataframe tbody tr th:only-of-type {\n",
              "        vertical-align: middle;\n",
              "    }\n",
              "\n",
              "    .dataframe tbody tr th {\n",
              "        vertical-align: top;\n",
              "    }\n",
              "\n",
              "    .dataframe thead th {\n",
              "        text-align: right;\n",
              "    }\n",
              "</style>\n",
              "<table border=\"1\" class=\"dataframe\">\n",
              "  <thead>\n",
              "    <tr style=\"text-align: right;\">\n",
              "      <th></th>\n",
              "      <th>id</th>\n",
              "      <th>player_name</th>\n",
              "      <th>birthday</th>\n",
              "      <th>height</th>\n",
              "      <th>weight</th>\n",
              "    </tr>\n",
              "  </thead>\n",
              "  <tbody>\n",
              "    <tr>\n",
              "      <th>0</th>\n",
              "      <td>1</td>\n",
              "      <td>Aaron Appindangoye</td>\n",
              "      <td>1992-02-29 00:00:00</td>\n",
              "      <td>182.88</td>\n",
              "      <td>187</td>\n",
              "    </tr>\n",
              "    <tr>\n",
              "      <th>1</th>\n",
              "      <td>2</td>\n",
              "      <td>Aaron Cresswell</td>\n",
              "      <td>1989-12-15 00:00:00</td>\n",
              "      <td>170.18</td>\n",
              "      <td>146</td>\n",
              "    </tr>\n",
              "    <tr>\n",
              "      <th>2</th>\n",
              "      <td>3</td>\n",
              "      <td>Aaron Doran</td>\n",
              "      <td>1991-05-13 00:00:00</td>\n",
              "      <td>170.18</td>\n",
              "      <td>163</td>\n",
              "    </tr>\n",
              "    <tr>\n",
              "      <th>3</th>\n",
              "      <td>4</td>\n",
              "      <td>Aaron Galindo</td>\n",
              "      <td>1982-05-08 00:00:00</td>\n",
              "      <td>182.88</td>\n",
              "      <td>198</td>\n",
              "    </tr>\n",
              "    <tr>\n",
              "      <th>4</th>\n",
              "      <td>5</td>\n",
              "      <td>Aaron Hughes</td>\n",
              "      <td>1979-11-08 00:00:00</td>\n",
              "      <td>182.88</td>\n",
              "      <td>154</td>\n",
              "    </tr>\n",
              "    <tr>\n",
              "      <th>...</th>\n",
              "      <td>...</td>\n",
              "      <td>...</td>\n",
              "      <td>...</td>\n",
              "      <td>...</td>\n",
              "      <td>...</td>\n",
              "    </tr>\n",
              "    <tr>\n",
              "      <th>11055</th>\n",
              "      <td>11071</td>\n",
              "      <td>Zoumana Camara</td>\n",
              "      <td>1979-04-03 00:00:00</td>\n",
              "      <td>182.88</td>\n",
              "      <td>168</td>\n",
              "    </tr>\n",
              "    <tr>\n",
              "      <th>11056</th>\n",
              "      <td>11072</td>\n",
              "      <td>Zsolt Laczko</td>\n",
              "      <td>1986-12-18 00:00:00</td>\n",
              "      <td>182.88</td>\n",
              "      <td>176</td>\n",
              "    </tr>\n",
              "    <tr>\n",
              "      <th>11057</th>\n",
              "      <td>11073</td>\n",
              "      <td>Zsolt Low</td>\n",
              "      <td>1979-04-29 00:00:00</td>\n",
              "      <td>180.34</td>\n",
              "      <td>154</td>\n",
              "    </tr>\n",
              "    <tr>\n",
              "      <th>11058</th>\n",
              "      <td>11074</td>\n",
              "      <td>Zurab Khizanishvili</td>\n",
              "      <td>1981-10-06 00:00:00</td>\n",
              "      <td>185.42</td>\n",
              "      <td>172</td>\n",
              "    </tr>\n",
              "    <tr>\n",
              "      <th>11059</th>\n",
              "      <td>11075</td>\n",
              "      <td>Zvjezdan Misimovic</td>\n",
              "      <td>1982-06-05 00:00:00</td>\n",
              "      <td>180.34</td>\n",
              "      <td>176</td>\n",
              "    </tr>\n",
              "  </tbody>\n",
              "</table>\n",
              "<p>11060 rows × 5 columns</p>\n",
              "</div>"
            ],
            "text/plain": [
              "          id          player_name             birthday  height  weight\n",
              "0          1   Aaron Appindangoye  1992-02-29 00:00:00  182.88     187\n",
              "1          2      Aaron Cresswell  1989-12-15 00:00:00  170.18     146\n",
              "2          3          Aaron Doran  1991-05-13 00:00:00  170.18     163\n",
              "3          4        Aaron Galindo  1982-05-08 00:00:00  182.88     198\n",
              "4          5         Aaron Hughes  1979-11-08 00:00:00  182.88     154\n",
              "...      ...                  ...                  ...     ...     ...\n",
              "11055  11071       Zoumana Camara  1979-04-03 00:00:00  182.88     168\n",
              "11056  11072         Zsolt Laczko  1986-12-18 00:00:00  182.88     176\n",
              "11057  11073            Zsolt Low  1979-04-29 00:00:00  180.34     154\n",
              "11058  11074  Zurab Khizanishvili  1981-10-06 00:00:00  185.42     172\n",
              "11059  11075   Zvjezdan Misimovic  1982-06-05 00:00:00  180.34     176\n",
              "\n",
              "[11060 rows x 5 columns]"
            ]
          },
          "execution_count": 6,
          "metadata": {},
          "output_type": "execute_result"
        }
      ],
      "source": [
        "#Ingrese la consulta SQL entre un par de 3 comillas dobles: \"\"\"consulta SQL\"\"\" después de la palabra query =\n",
        "\n",
        "query = \"\"\"SELECT\n",
        "              id,\n",
        "              player_name,\n",
        "              birthday,\n",
        "              height,\n",
        "              weight\n",
        "              FROM Player\"\"\"\n",
        "\n",
        "#No modificar lo siguiente:\n",
        "players = pd.read_sql(query, conn)\n",
        "players"
      ]
    },
    {
      "cell_type": "markdown",
      "metadata": {
        "id": "_krfo6y0btc0"
      },
      "source": [
        "## 2.2 Sentencia SELECT DISTINCT\n",
        "\n",
        "La sentencia `SELECT DISTINCT` se utiliza para devolver sólo valores distintos (diferentes).\n",
        "\n",
        "Dentro de una tabla, una columna a menudo contiene muchos valores duplicados y a veces sólo se desea listar los diferentes valores (distintos).\n",
        "\n",
        "La sintaxis de `SELECT DISTINCT` es así:\n",
        "\n",
        "`SELECT DISTINCT column1`\n",
        "\n",
        "`FROM table_name;`\n",
        "\n",
        "## 2.2.1 Ejemplo: Listar las temporadas jugadas de esta Base de Datos\n",
        "\n",
        "Si consultamos por todas las temporadas que se almacenaron en la tabla `Match`de la base de datos de Fútbol Europeo, vamos a tener el siguiente resultado.\n",
        "\n",
        "Ejecuta (haciendo clic en ejecutar o Shift+Enter) el códido de abajo\n"
      ]
    },
    {
      "cell_type": "code",
      "execution_count": null,
      "metadata": {
        "colab": {
          "base_uri": "https://localhost:8080/",
          "height": 424
        },
        "id": "6xC7VyFgbtc0",
        "outputId": "fc180bce-5e84-44cb-a72d-5c7ced6f98c4",
        "scrolled": true,
        "trusted": true
      },
      "outputs": [
        {
          "data": {
            "text/html": [
              "<div>\n",
              "<style scoped>\n",
              "    .dataframe tbody tr th:only-of-type {\n",
              "        vertical-align: middle;\n",
              "    }\n",
              "\n",
              "    .dataframe tbody tr th {\n",
              "        vertical-align: top;\n",
              "    }\n",
              "\n",
              "    .dataframe thead th {\n",
              "        text-align: right;\n",
              "    }\n",
              "</style>\n",
              "<table border=\"1\" class=\"dataframe\">\n",
              "  <thead>\n",
              "    <tr style=\"text-align: right;\">\n",
              "      <th></th>\n",
              "      <th>season</th>\n",
              "    </tr>\n",
              "  </thead>\n",
              "  <tbody>\n",
              "    <tr>\n",
              "      <th>0</th>\n",
              "      <td>2008/2009</td>\n",
              "    </tr>\n",
              "    <tr>\n",
              "      <th>1</th>\n",
              "      <td>2008/2009</td>\n",
              "    </tr>\n",
              "    <tr>\n",
              "      <th>2</th>\n",
              "      <td>2008/2009</td>\n",
              "    </tr>\n",
              "    <tr>\n",
              "      <th>3</th>\n",
              "      <td>2008/2009</td>\n",
              "    </tr>\n",
              "    <tr>\n",
              "      <th>4</th>\n",
              "      <td>2008/2009</td>\n",
              "    </tr>\n",
              "    <tr>\n",
              "      <th>...</th>\n",
              "      <td>...</td>\n",
              "    </tr>\n",
              "    <tr>\n",
              "      <th>25974</th>\n",
              "      <td>2015/2016</td>\n",
              "    </tr>\n",
              "    <tr>\n",
              "      <th>25975</th>\n",
              "      <td>2015/2016</td>\n",
              "    </tr>\n",
              "    <tr>\n",
              "      <th>25976</th>\n",
              "      <td>2015/2016</td>\n",
              "    </tr>\n",
              "    <tr>\n",
              "      <th>25977</th>\n",
              "      <td>2015/2016</td>\n",
              "    </tr>\n",
              "    <tr>\n",
              "      <th>25978</th>\n",
              "      <td>2015/2016</td>\n",
              "    </tr>\n",
              "  </tbody>\n",
              "</table>\n",
              "<p>25979 rows × 1 columns</p>\n",
              "</div>"
            ],
            "text/plain": [
              "          season\n",
              "0      2008/2009\n",
              "1      2008/2009\n",
              "2      2008/2009\n",
              "3      2008/2009\n",
              "4      2008/2009\n",
              "...          ...\n",
              "25974  2015/2016\n",
              "25975  2015/2016\n",
              "25976  2015/2016\n",
              "25977  2015/2016\n",
              "25978  2015/2016\n",
              "\n",
              "[25979 rows x 1 columns]"
            ]
          },
          "execution_count": 7,
          "metadata": {},
          "output_type": "execute_result"
        }
      ],
      "source": [
        "query = \"\"\"\n",
        "SELECT season\n",
        "FROM Match;\n",
        "\"\"\"\n",
        "\n",
        "\n",
        "seasons = pd.read_sql(query, conn)\n",
        "seasons"
      ]
    },
    {
      "cell_type": "markdown",
      "metadata": {
        "id": "5z08OiQKbtc0"
      },
      "source": [
        "Con el resultado anterior, es muy difícil responder a la pregunta ¿Cuáles son las temporadas almacenadas en esta base de datos?\n",
        "Para responderla sin mucho esfuerzo, usamos `SELECT DISTINCT` para consultar la tabla `Match` de la base de datos.\n",
        "\n",
        "Ejecuta (haciendo clic en ejecutar o Shift+Enter) el códido de abajo"
      ]
    },
    {
      "cell_type": "code",
      "execution_count": null,
      "metadata": {
        "colab": {
          "base_uri": "https://localhost:8080/",
          "height": 300
        },
        "id": "JJk7igUdbtc1",
        "outputId": "eb296d15-23ea-4429-bbb7-f2cfba60293b",
        "trusted": true
      },
      "outputs": [
        {
          "data": {
            "text/html": [
              "<div>\n",
              "<style scoped>\n",
              "    .dataframe tbody tr th:only-of-type {\n",
              "        vertical-align: middle;\n",
              "    }\n",
              "\n",
              "    .dataframe tbody tr th {\n",
              "        vertical-align: top;\n",
              "    }\n",
              "\n",
              "    .dataframe thead th {\n",
              "        text-align: right;\n",
              "    }\n",
              "</style>\n",
              "<table border=\"1\" class=\"dataframe\">\n",
              "  <thead>\n",
              "    <tr style=\"text-align: right;\">\n",
              "      <th></th>\n",
              "      <th>season</th>\n",
              "    </tr>\n",
              "  </thead>\n",
              "  <tbody>\n",
              "    <tr>\n",
              "      <th>0</th>\n",
              "      <td>2008/2009</td>\n",
              "    </tr>\n",
              "    <tr>\n",
              "      <th>1</th>\n",
              "      <td>2009/2010</td>\n",
              "    </tr>\n",
              "    <tr>\n",
              "      <th>2</th>\n",
              "      <td>2010/2011</td>\n",
              "    </tr>\n",
              "    <tr>\n",
              "      <th>3</th>\n",
              "      <td>2011/2012</td>\n",
              "    </tr>\n",
              "    <tr>\n",
              "      <th>4</th>\n",
              "      <td>2012/2013</td>\n",
              "    </tr>\n",
              "    <tr>\n",
              "      <th>5</th>\n",
              "      <td>2013/2014</td>\n",
              "    </tr>\n",
              "    <tr>\n",
              "      <th>6</th>\n",
              "      <td>2014/2015</td>\n",
              "    </tr>\n",
              "    <tr>\n",
              "      <th>7</th>\n",
              "      <td>2015/2016</td>\n",
              "    </tr>\n",
              "  </tbody>\n",
              "</table>\n",
              "</div>"
            ],
            "text/plain": [
              "      season\n",
              "0  2008/2009\n",
              "1  2009/2010\n",
              "2  2010/2011\n",
              "3  2011/2012\n",
              "4  2012/2013\n",
              "5  2013/2014\n",
              "6  2014/2015\n",
              "7  2015/2016"
            ]
          },
          "execution_count": 8,
          "metadata": {},
          "output_type": "execute_result"
        }
      ],
      "source": [
        "query = \"\"\"\n",
        "SELECT DISTINCT season\n",
        "FROM Match;\n",
        "\"\"\"\n",
        "seasons = pd.read_sql(query, conn)\n",
        "seasons"
      ]
    },
    {
      "cell_type": "markdown",
      "metadata": {
        "id": "5IvHlBkFbtc1"
      },
      "source": [
        "## 2.2.2 Práctica: Listar sólo tasas diferentes de valoración general de los jugadores.\n",
        "\n",
        "En la tabla `Player_Attributes` de la base de datos de Fútbol Europeo hay el campo `overall_rating` que parece contener la valoración de los jugadores. El objetivo es ver sólo tasas diferentes de valoración general de los jugadores.\n",
        "\n",
        "Para ello deberán escribir la consulta SQL entre un par de 3 comillas dobles: `\"\"\"consulta SQL\"\"\"` después de la palabra `query =`\n",
        "\n",
        "Una vez que estén lo tengan listo, ejecuten (haciendo clic en ejecutar o Shift+Enter) el códido de abajo"
      ]
    },
    {
      "cell_type": "code",
      "execution_count": null,
      "metadata": {
        "colab": {
          "base_uri": "https://localhost:8080/",
          "height": 424
        },
        "id": "jZixwxExbtc1",
        "outputId": "f056c50a-f264-402c-fe87-72ce834041e1",
        "trusted": true
      },
      "outputs": [
        {
          "data": {
            "text/html": [
              "<div>\n",
              "<style scoped>\n",
              "    .dataframe tbody tr th:only-of-type {\n",
              "        vertical-align: middle;\n",
              "    }\n",
              "\n",
              "    .dataframe tbody tr th {\n",
              "        vertical-align: top;\n",
              "    }\n",
              "\n",
              "    .dataframe thead th {\n",
              "        text-align: right;\n",
              "    }\n",
              "</style>\n",
              "<table border=\"1\" class=\"dataframe\">\n",
              "  <thead>\n",
              "    <tr style=\"text-align: right;\">\n",
              "      <th></th>\n",
              "      <th>overall_rating</th>\n",
              "    </tr>\n",
              "  </thead>\n",
              "  <tbody>\n",
              "    <tr>\n",
              "      <th>0</th>\n",
              "      <td>67.0</td>\n",
              "    </tr>\n",
              "    <tr>\n",
              "      <th>1</th>\n",
              "      <td>62.0</td>\n",
              "    </tr>\n",
              "    <tr>\n",
              "      <th>2</th>\n",
              "      <td>61.0</td>\n",
              "    </tr>\n",
              "    <tr>\n",
              "      <th>3</th>\n",
              "      <td>74.0</td>\n",
              "    </tr>\n",
              "    <tr>\n",
              "      <th>4</th>\n",
              "      <td>73.0</td>\n",
              "    </tr>\n",
              "    <tr>\n",
              "      <th>...</th>\n",
              "      <td>...</td>\n",
              "    </tr>\n",
              "    <tr>\n",
              "      <th>57</th>\n",
              "      <td>33.0</td>\n",
              "    </tr>\n",
              "    <tr>\n",
              "      <th>58</th>\n",
              "      <td>36.0</td>\n",
              "    </tr>\n",
              "    <tr>\n",
              "      <th>59</th>\n",
              "      <td>37.0</td>\n",
              "    </tr>\n",
              "    <tr>\n",
              "      <th>60</th>\n",
              "      <td>35.0</td>\n",
              "    </tr>\n",
              "    <tr>\n",
              "      <th>61</th>\n",
              "      <td>94.0</td>\n",
              "    </tr>\n",
              "  </tbody>\n",
              "</table>\n",
              "<p>62 rows × 1 columns</p>\n",
              "</div>"
            ],
            "text/plain": [
              "    overall_rating\n",
              "0             67.0\n",
              "1             62.0\n",
              "2             61.0\n",
              "3             74.0\n",
              "4             73.0\n",
              "..             ...\n",
              "57            33.0\n",
              "58            36.0\n",
              "59            37.0\n",
              "60            35.0\n",
              "61            94.0\n",
              "\n",
              "[62 rows x 1 columns]"
            ]
          },
          "execution_count": 9,
          "metadata": {},
          "output_type": "execute_result"
        }
      ],
      "source": [
        "#Ingrese la la consulta SQL entre un par de 3 comillas dobles: \"\"\"consulta SQL\"\"\" después de la palabra query =\n",
        "\n",
        "query = \"\"\" SELECT DISTINCT overall_rating FROM Player_Attributes \"\"\"\n",
        "\n",
        "#No modificar lo siguiente:\n",
        "overall_rating = pd.read_sql(query, conn)\n",
        "overall_rating"
      ]
    },
    {
      "cell_type": "markdown",
      "metadata": {
        "id": "Id6ZPkpSbtc1"
      },
      "source": [
        "# 3. Sentencia LIMIT\n",
        "\n",
        "Cuando deseamos poner un límite al resultado o no nos interesa conocer la totalidad de los resultados, podemos **limitar** la cantidad de registros resultantes mediante la sentencia `LIMIT`\n",
        "\n",
        "La sintaxis de `LIMIT` es así:\n",
        "\n",
        "`SELECT column1, column2...`\n",
        "\n",
        "`FROM table_name`\n",
        "\n",
        "`LIMIT number;`\n",
        "\n",
        "## 3.1.1 Ejemplo: Listar 15 jugadores de la base de datos del fútbol europeo\n",
        "\n",
        "Queremos listar 15 jugadores de la tabla `Player` de la base de datos de Fútbol Europeo. En la tabla de resultados quiero ver los campos `ìd`,`player_name`, `birthday`, `height` y `weight`. Todos se encuentran en la tabla `Player`\n",
        "\n",
        "Ejecuta (haciendo clic en ejecutar o Shift+Enter) el códido de abajo"
      ]
    },
    {
      "cell_type": "code",
      "execution_count": null,
      "metadata": {
        "colab": {
          "base_uri": "https://localhost:8080/",
          "height": 520
        },
        "id": "_hNSU17Bbtc1",
        "outputId": "2f9fb4d7-cac6-4fc5-aa8b-bf0059185d82",
        "trusted": true
      },
      "outputs": [
        {
          "data": {
            "text/html": [
              "<div>\n",
              "<style scoped>\n",
              "    .dataframe tbody tr th:only-of-type {\n",
              "        vertical-align: middle;\n",
              "    }\n",
              "\n",
              "    .dataframe tbody tr th {\n",
              "        vertical-align: top;\n",
              "    }\n",
              "\n",
              "    .dataframe thead th {\n",
              "        text-align: right;\n",
              "    }\n",
              "</style>\n",
              "<table border=\"1\" class=\"dataframe\">\n",
              "  <thead>\n",
              "    <tr style=\"text-align: right;\">\n",
              "      <th></th>\n",
              "      <th>id</th>\n",
              "      <th>player_name</th>\n",
              "      <th>birthday</th>\n",
              "      <th>height</th>\n",
              "      <th>weight</th>\n",
              "    </tr>\n",
              "  </thead>\n",
              "  <tbody>\n",
              "    <tr>\n",
              "      <th>0</th>\n",
              "      <td>1</td>\n",
              "      <td>Aaron Appindangoye</td>\n",
              "      <td>1992-02-29 00:00:00</td>\n",
              "      <td>182.88</td>\n",
              "      <td>187</td>\n",
              "    </tr>\n",
              "    <tr>\n",
              "      <th>1</th>\n",
              "      <td>2</td>\n",
              "      <td>Aaron Cresswell</td>\n",
              "      <td>1989-12-15 00:00:00</td>\n",
              "      <td>170.18</td>\n",
              "      <td>146</td>\n",
              "    </tr>\n",
              "    <tr>\n",
              "      <th>2</th>\n",
              "      <td>3</td>\n",
              "      <td>Aaron Doran</td>\n",
              "      <td>1991-05-13 00:00:00</td>\n",
              "      <td>170.18</td>\n",
              "      <td>163</td>\n",
              "    </tr>\n",
              "    <tr>\n",
              "      <th>3</th>\n",
              "      <td>4</td>\n",
              "      <td>Aaron Galindo</td>\n",
              "      <td>1982-05-08 00:00:00</td>\n",
              "      <td>182.88</td>\n",
              "      <td>198</td>\n",
              "    </tr>\n",
              "    <tr>\n",
              "      <th>4</th>\n",
              "      <td>5</td>\n",
              "      <td>Aaron Hughes</td>\n",
              "      <td>1979-11-08 00:00:00</td>\n",
              "      <td>182.88</td>\n",
              "      <td>154</td>\n",
              "    </tr>\n",
              "    <tr>\n",
              "      <th>5</th>\n",
              "      <td>6</td>\n",
              "      <td>Aaron Hunt</td>\n",
              "      <td>1986-09-04 00:00:00</td>\n",
              "      <td>182.88</td>\n",
              "      <td>161</td>\n",
              "    </tr>\n",
              "    <tr>\n",
              "      <th>6</th>\n",
              "      <td>7</td>\n",
              "      <td>Aaron Kuhl</td>\n",
              "      <td>1996-01-30 00:00:00</td>\n",
              "      <td>172.72</td>\n",
              "      <td>146</td>\n",
              "    </tr>\n",
              "    <tr>\n",
              "      <th>7</th>\n",
              "      <td>8</td>\n",
              "      <td>Aaron Lennon</td>\n",
              "      <td>1987-04-16 00:00:00</td>\n",
              "      <td>165.10</td>\n",
              "      <td>139</td>\n",
              "    </tr>\n",
              "    <tr>\n",
              "      <th>8</th>\n",
              "      <td>9</td>\n",
              "      <td>Aaron Lennox</td>\n",
              "      <td>1993-02-19 00:00:00</td>\n",
              "      <td>190.50</td>\n",
              "      <td>181</td>\n",
              "    </tr>\n",
              "    <tr>\n",
              "      <th>9</th>\n",
              "      <td>10</td>\n",
              "      <td>Aaron Meijers</td>\n",
              "      <td>1987-10-28 00:00:00</td>\n",
              "      <td>175.26</td>\n",
              "      <td>170</td>\n",
              "    </tr>\n",
              "    <tr>\n",
              "      <th>10</th>\n",
              "      <td>11</td>\n",
              "      <td>Aaron Mokoena</td>\n",
              "      <td>1980-11-25 00:00:00</td>\n",
              "      <td>182.88</td>\n",
              "      <td>181</td>\n",
              "    </tr>\n",
              "    <tr>\n",
              "      <th>11</th>\n",
              "      <td>12</td>\n",
              "      <td>Aaron Mooy</td>\n",
              "      <td>1990-09-15 00:00:00</td>\n",
              "      <td>175.26</td>\n",
              "      <td>150</td>\n",
              "    </tr>\n",
              "    <tr>\n",
              "      <th>12</th>\n",
              "      <td>13</td>\n",
              "      <td>Aaron Muirhead</td>\n",
              "      <td>1990-08-30 00:00:00</td>\n",
              "      <td>187.96</td>\n",
              "      <td>168</td>\n",
              "    </tr>\n",
              "    <tr>\n",
              "      <th>13</th>\n",
              "      <td>14</td>\n",
              "      <td>Aaron Niguez</td>\n",
              "      <td>1989-04-26 00:00:00</td>\n",
              "      <td>170.18</td>\n",
              "      <td>143</td>\n",
              "    </tr>\n",
              "    <tr>\n",
              "      <th>14</th>\n",
              "      <td>15</td>\n",
              "      <td>Aaron Ramsey</td>\n",
              "      <td>1990-12-26 00:00:00</td>\n",
              "      <td>177.80</td>\n",
              "      <td>154</td>\n",
              "    </tr>\n",
              "  </tbody>\n",
              "</table>\n",
              "</div>"
            ],
            "text/plain": [
              "    id         player_name             birthday  height  weight\n",
              "0    1  Aaron Appindangoye  1992-02-29 00:00:00  182.88     187\n",
              "1    2     Aaron Cresswell  1989-12-15 00:00:00  170.18     146\n",
              "2    3         Aaron Doran  1991-05-13 00:00:00  170.18     163\n",
              "3    4       Aaron Galindo  1982-05-08 00:00:00  182.88     198\n",
              "4    5        Aaron Hughes  1979-11-08 00:00:00  182.88     154\n",
              "5    6          Aaron Hunt  1986-09-04 00:00:00  182.88     161\n",
              "6    7          Aaron Kuhl  1996-01-30 00:00:00  172.72     146\n",
              "7    8        Aaron Lennon  1987-04-16 00:00:00  165.10     139\n",
              "8    9        Aaron Lennox  1993-02-19 00:00:00  190.50     181\n",
              "9   10       Aaron Meijers  1987-10-28 00:00:00  175.26     170\n",
              "10  11       Aaron Mokoena  1980-11-25 00:00:00  182.88     181\n",
              "11  12          Aaron Mooy  1990-09-15 00:00:00  175.26     150\n",
              "12  13      Aaron Muirhead  1990-08-30 00:00:00  187.96     168\n",
              "13  14        Aaron Niguez  1989-04-26 00:00:00  170.18     143\n",
              "14  15        Aaron Ramsey  1990-12-26 00:00:00  177.80     154"
            ]
          },
          "execution_count": 10,
          "metadata": {},
          "output_type": "execute_result"
        }
      ],
      "source": [
        "query = \"\"\"\n",
        "SELECT id, player_name, birthday, height, weight\n",
        "FROM Player\n",
        "LIMIT 15;\n",
        "\"\"\"\n",
        "players = pd.read_sql(query, conn)\n",
        "players"
      ]
    },
    {
      "cell_type": "markdown",
      "metadata": {
        "id": "JwUkk_DVbtc1"
      },
      "source": [
        "## 3.1.2 Práctica: Listar 25 equipos del fútbol europeo\n",
        "\n",
        "Deben listar 25 equipos del fútbol europeo. La tabla de resultados deberá contener los campos `id` y `team_long_name` de la tabla `Team` de la base de datos de Fútbol Europeo.\n",
        "\n",
        "Para ello deberán escribir la consulta SQL entre un par de 3 comillas dobles: `\"\"\"consulta SQL\"\"\"` después de la palabra `query =`\n",
        "\n",
        "Una vez que estén lo tengan listo, ejecuten (haciendo clic en ejecutar o Shift+Enter) el códido de abajo"
      ]
    },
    {
      "cell_type": "code",
      "execution_count": null,
      "metadata": {
        "colab": {
          "base_uri": "https://localhost:8080/",
          "height": 833
        },
        "id": "P7jCSoqdbtc1",
        "outputId": "bdab1c86-25fe-4b8d-abf7-d9c54270be6e",
        "scrolled": true,
        "trusted": true
      },
      "outputs": [
        {
          "data": {
            "text/html": [
              "<div>\n",
              "<style scoped>\n",
              "    .dataframe tbody tr th:only-of-type {\n",
              "        vertical-align: middle;\n",
              "    }\n",
              "\n",
              "    .dataframe tbody tr th {\n",
              "        vertical-align: top;\n",
              "    }\n",
              "\n",
              "    .dataframe thead th {\n",
              "        text-align: right;\n",
              "    }\n",
              "</style>\n",
              "<table border=\"1\" class=\"dataframe\">\n",
              "  <thead>\n",
              "    <tr style=\"text-align: right;\">\n",
              "      <th></th>\n",
              "      <th>id</th>\n",
              "      <th>team_long_name</th>\n",
              "    </tr>\n",
              "  </thead>\n",
              "  <tbody>\n",
              "    <tr>\n",
              "      <th>0</th>\n",
              "      <td>1</td>\n",
              "      <td>KRC Genk</td>\n",
              "    </tr>\n",
              "    <tr>\n",
              "      <th>1</th>\n",
              "      <td>2</td>\n",
              "      <td>Beerschot AC</td>\n",
              "    </tr>\n",
              "    <tr>\n",
              "      <th>2</th>\n",
              "      <td>3</td>\n",
              "      <td>SV Zulte-Waregem</td>\n",
              "    </tr>\n",
              "    <tr>\n",
              "      <th>3</th>\n",
              "      <td>4</td>\n",
              "      <td>Sporting Lokeren</td>\n",
              "    </tr>\n",
              "    <tr>\n",
              "      <th>4</th>\n",
              "      <td>5</td>\n",
              "      <td>KSV Cercle Brugge</td>\n",
              "    </tr>\n",
              "    <tr>\n",
              "      <th>5</th>\n",
              "      <td>6</td>\n",
              "      <td>RSC Anderlecht</td>\n",
              "    </tr>\n",
              "    <tr>\n",
              "      <th>6</th>\n",
              "      <td>7</td>\n",
              "      <td>KAA Gent</td>\n",
              "    </tr>\n",
              "    <tr>\n",
              "      <th>7</th>\n",
              "      <td>8</td>\n",
              "      <td>RAEC Mons</td>\n",
              "    </tr>\n",
              "    <tr>\n",
              "      <th>8</th>\n",
              "      <td>9</td>\n",
              "      <td>FCV Dender EH</td>\n",
              "    </tr>\n",
              "    <tr>\n",
              "      <th>9</th>\n",
              "      <td>10</td>\n",
              "      <td>Standard de Liège</td>\n",
              "    </tr>\n",
              "    <tr>\n",
              "      <th>10</th>\n",
              "      <td>11</td>\n",
              "      <td>KV Mechelen</td>\n",
              "    </tr>\n",
              "    <tr>\n",
              "      <th>11</th>\n",
              "      <td>12</td>\n",
              "      <td>Club Brugge KV</td>\n",
              "    </tr>\n",
              "    <tr>\n",
              "      <th>12</th>\n",
              "      <td>13</td>\n",
              "      <td>KSV Roeselare</td>\n",
              "    </tr>\n",
              "    <tr>\n",
              "      <th>13</th>\n",
              "      <td>14</td>\n",
              "      <td>KV Kortrijk</td>\n",
              "    </tr>\n",
              "    <tr>\n",
              "      <th>14</th>\n",
              "      <td>15</td>\n",
              "      <td>Tubize</td>\n",
              "    </tr>\n",
              "    <tr>\n",
              "      <th>15</th>\n",
              "      <td>16</td>\n",
              "      <td>Royal Excel Mouscron</td>\n",
              "    </tr>\n",
              "    <tr>\n",
              "      <th>16</th>\n",
              "      <td>17</td>\n",
              "      <td>KVC Westerlo</td>\n",
              "    </tr>\n",
              "    <tr>\n",
              "      <th>17</th>\n",
              "      <td>18</td>\n",
              "      <td>Sporting Charleroi</td>\n",
              "    </tr>\n",
              "    <tr>\n",
              "      <th>18</th>\n",
              "      <td>614</td>\n",
              "      <td>Sint-Truidense VV</td>\n",
              "    </tr>\n",
              "    <tr>\n",
              "      <th>19</th>\n",
              "      <td>1034</td>\n",
              "      <td>Lierse SK</td>\n",
              "    </tr>\n",
              "    <tr>\n",
              "      <th>20</th>\n",
              "      <td>1042</td>\n",
              "      <td>KAS Eupen</td>\n",
              "    </tr>\n",
              "    <tr>\n",
              "      <th>21</th>\n",
              "      <td>1513</td>\n",
              "      <td>Oud-Heverlee Leuven</td>\n",
              "    </tr>\n",
              "    <tr>\n",
              "      <th>22</th>\n",
              "      <td>2004</td>\n",
              "      <td>Waasland-Beveren</td>\n",
              "    </tr>\n",
              "    <tr>\n",
              "      <th>23</th>\n",
              "      <td>2476</td>\n",
              "      <td>KV Oostende</td>\n",
              "    </tr>\n",
              "    <tr>\n",
              "      <th>24</th>\n",
              "      <td>2510</td>\n",
              "      <td>Royal Excel Mouscron</td>\n",
              "    </tr>\n",
              "  </tbody>\n",
              "</table>\n",
              "</div>"
            ],
            "text/plain": [
              "      id        team_long_name\n",
              "0      1              KRC Genk\n",
              "1      2          Beerschot AC\n",
              "2      3      SV Zulte-Waregem\n",
              "3      4      Sporting Lokeren\n",
              "4      5     KSV Cercle Brugge\n",
              "5      6        RSC Anderlecht\n",
              "6      7              KAA Gent\n",
              "7      8             RAEC Mons\n",
              "8      9         FCV Dender EH\n",
              "9     10     Standard de Liège\n",
              "10    11           KV Mechelen\n",
              "11    12        Club Brugge KV\n",
              "12    13         KSV Roeselare\n",
              "13    14           KV Kortrijk\n",
              "14    15                Tubize\n",
              "15    16  Royal Excel Mouscron\n",
              "16    17          KVC Westerlo\n",
              "17    18    Sporting Charleroi\n",
              "18   614     Sint-Truidense VV\n",
              "19  1034             Lierse SK\n",
              "20  1042             KAS Eupen\n",
              "21  1513   Oud-Heverlee Leuven\n",
              "22  2004      Waasland-Beveren\n",
              "23  2476           KV Oostende\n",
              "24  2510  Royal Excel Mouscron"
            ]
          },
          "execution_count": 11,
          "metadata": {},
          "output_type": "execute_result"
        }
      ],
      "source": [
        "#Ingrese la la consulta SQL entre un par de 3 comillas dobles: \"\"\"consulta SQL\"\"\" después de la palabra query =\n",
        "\n",
        "query = \"\"\" SELECT id,\n",
        "              team_long_name\n",
        "              FROM Team\n",
        "              LIMIT 25\"\"\"\n",
        "\n",
        "#No modificar lo siguiente:\n",
        "teams = pd.read_sql(query, conn)\n",
        "teams"
      ]
    },
    {
      "cell_type": "markdown",
      "metadata": {
        "id": "Vlm9M4vUbtc1"
      },
      "source": [
        "# 4. Funciones agregativas/ Métricas\n",
        "\n",
        "Todas las métricas tienen que ser agregadas usando funciones. Las funciones agregativas más comunes son:\n",
        "\n",
        "* `SUM()` | Sumatoria total de una columna tipo numérica.\n",
        "* `COUNT()` | Devuelve la cantidad de filas.\n",
        "* `COUNT(DISTINCT)` | Devuelve la cantidad de filas distintas o diferentes.\n",
        "* `AVG()` | Promedia los valores de una columna tipo numérica.\n",
        "* `MIN()` | Menor valor dentro de la columna especificada.\n",
        "* `MAX()` | Mayor valor dentro de la columna especificada.\n",
        "\n",
        "La sintaxis de las métricas en la sentencia `SELECT` es así:\n",
        "* `SUM()`\n",
        "\n",
        "`SELECT SUM(column1), column2...`\n",
        "\n",
        "`FROM table_name`\n",
        "\n",
        "* `COUNT()`\n",
        "\n",
        "`SELECT COUNT(column1), column2...`\n",
        "\n",
        "`FROM table_name`\n",
        "\n",
        "* `COUNT(DISTINCT)`\n",
        "\n",
        "`SELECT COUNT(DISTINCT column1), column2...`\n",
        "\n",
        "`FROM table_name`\n",
        "\n",
        "* `AVG()`\n",
        "\n",
        "`SELECT AVG(column1), column2...`\n",
        "\n",
        "`FROM table_name`\n",
        "\n",
        "\n",
        "* `MIN()`\n",
        "\n",
        "`SELECT MIN(column1), column2...`\n",
        "\n",
        "`FROM table_name`\n",
        "\n",
        "\n",
        "* `MAX()`\n",
        "\n",
        "`SELECT MAX(column1), column2...`\n",
        "\n",
        "`FROM table_name`\n"
      ]
    },
    {
      "cell_type": "markdown",
      "metadata": {
        "id": "maO_GyY-btc1"
      },
      "source": [
        "## 4.1.1 Ejemplo: ¿Cuántos países diferentes están almacenados en la tabla Country?\n",
        "\n",
        "Para consultar por el número de países diferentes almacenados en la tabla `Country` y que la tabla de resultados nos muestre únicamente el número con la cantidad de países, necesitamos usar una función agregativa que cuente el número de registros pero además, que cuente sólo los registros distintos. Esa función es `COUNT(DISTINCT )`\n",
        "\n",
        "Ejecuten (haciendo clic en ejecutar o Shift+Enter) el códido de abajo"
      ]
    },
    {
      "cell_type": "code",
      "execution_count": null,
      "metadata": {
        "colab": {
          "base_uri": "https://localhost:8080/",
          "height": 89
        },
        "id": "COnNSO1dbtc2",
        "outputId": "6957495a-f5ff-47d3-c555-a4f4adfc033c",
        "trusted": true
      },
      "outputs": [
        {
          "data": {
            "text/html": [
              "<div>\n",
              "<style scoped>\n",
              "    .dataframe tbody tr th:only-of-type {\n",
              "        vertical-align: middle;\n",
              "    }\n",
              "\n",
              "    .dataframe tbody tr th {\n",
              "        vertical-align: top;\n",
              "    }\n",
              "\n",
              "    .dataframe thead th {\n",
              "        text-align: right;\n",
              "    }\n",
              "</style>\n",
              "<table border=\"1\" class=\"dataframe\">\n",
              "  <thead>\n",
              "    <tr style=\"text-align: right;\">\n",
              "      <th></th>\n",
              "      <th>COUNT(DISTINCT name)</th>\n",
              "    </tr>\n",
              "  </thead>\n",
              "  <tbody>\n",
              "    <tr>\n",
              "      <th>0</th>\n",
              "      <td>11</td>\n",
              "    </tr>\n",
              "  </tbody>\n",
              "</table>\n",
              "</div>"
            ],
            "text/plain": [
              "   COUNT(DISTINCT name)\n",
              "0                    11"
            ]
          },
          "execution_count": 12,
          "metadata": {},
          "output_type": "execute_result"
        }
      ],
      "source": [
        "#Ingrese la la consulta SQL entre un par de 3 comillas dobles: \"\"\"consulta SQL\"\"\" después de la palabra query =\n",
        "\n",
        "query = \"\"\"\n",
        "SELECT COUNT(DISTINCT name)\n",
        "FROM Country;\n",
        "\"\"\"\n",
        "\n",
        "#No modificar lo siguiente:\n",
        "count_countries = pd.read_sql(query, conn)\n",
        "count_countries"
      ]
    },
    {
      "cell_type": "markdown",
      "metadata": {
        "id": "fFIg4CMDbtc2"
      },
      "source": [
        "## 4.1.2 Práctica: Traer el número de etapas jugadas de la tabla Match\n",
        "\n",
        "Deben traer el número de etapas `stage` almacenados en la tabla `Match` de la base de datos de Fútbol Europeo. La tabla de resultados deberá mostrar únicamente el número con la cantidad de etapas **diferentes**.\n",
        "\n",
        "Para ello deberán escribir la consulta SQL entre un par de 3 comillas dobles: `\"\"\"consulta SQL\"\"\"` después de la palabra `query =`\n",
        "\n",
        "Una vez que estén lo tengan listo, ejecuten (haciendo clic en ejecutar o Shift+Enter) el códido de abajo"
      ]
    },
    {
      "cell_type": "code",
      "execution_count": null,
      "metadata": {
        "colab": {
          "base_uri": "https://localhost:8080/",
          "height": 89
        },
        "id": "MXmWzf4ibtc2",
        "outputId": "bc280e00-e740-4ae5-aa09-96186ef1d99b",
        "trusted": true
      },
      "outputs": [
        {
          "data": {
            "text/html": [
              "<div>\n",
              "<style scoped>\n",
              "    .dataframe tbody tr th:only-of-type {\n",
              "        vertical-align: middle;\n",
              "    }\n",
              "\n",
              "    .dataframe tbody tr th {\n",
              "        vertical-align: top;\n",
              "    }\n",
              "\n",
              "    .dataframe thead th {\n",
              "        text-align: right;\n",
              "    }\n",
              "</style>\n",
              "<table border=\"1\" class=\"dataframe\">\n",
              "  <thead>\n",
              "    <tr style=\"text-align: right;\">\n",
              "      <th></th>\n",
              "      <th>COUNT(DISTINCT stage)</th>\n",
              "    </tr>\n",
              "  </thead>\n",
              "  <tbody>\n",
              "    <tr>\n",
              "      <th>0</th>\n",
              "      <td>38</td>\n",
              "    </tr>\n",
              "  </tbody>\n",
              "</table>\n",
              "</div>"
            ],
            "text/plain": [
              "   COUNT(DISTINCT stage)\n",
              "0                     38"
            ]
          },
          "execution_count": 13,
          "metadata": {},
          "output_type": "execute_result"
        }
      ],
      "source": [
        "#Ingrese la la consulta SQL entre un par de 3 comillas dobles: \"\"\"consulta SQL\"\"\" después de la palabra query =\n",
        "\n",
        "query = \"\"\" SELECT COUNT(DISTINCT stage)\n",
        "            FROM Match; \"\"\"\n",
        "\n",
        "#No modificar lo siguiente:\n",
        "countdis_stages = pd.read_sql(query, conn)\n",
        "countdis_stages"
      ]
    },
    {
      "cell_type": "markdown",
      "metadata": {
        "id": "HOrAuXaxbtc2"
      },
      "source": [
        "## 4.1.3 Práctica: Traer la suma de goles hechos por los equipos visitantes de la tabla Match\n",
        "\n",
        "Deben traer la suma de goles hechos por los equipos visitantes `away_team_goal` almacenados en la tabla `Match` de la base de datos de Fútbol Europeo. La tabla de resultados deberá mostrar únicamente el número con la suma de goles.\n",
        "\n",
        "Para ello deberán escribir la consulta SQL entre un par de 3 comillas dobles: `\"\"\"consulta SQL\"\"\"` después de la palabra `query =`\n",
        "\n",
        "Una vez que estén lo tengan listo, ejecuten (haciendo clic en ejecutar o Shift+Enter) el códido de abajo"
      ]
    },
    {
      "cell_type": "code",
      "execution_count": null,
      "metadata": {
        "colab": {
          "base_uri": "https://localhost:8080/",
          "height": 89
        },
        "id": "SGJyntrgbtc2",
        "outputId": "dd32bfa5-ee9c-429b-af57-c34a8005e4aa",
        "trusted": true
      },
      "outputs": [
        {
          "data": {
            "text/html": [
              "<div>\n",
              "<style scoped>\n",
              "    .dataframe tbody tr th:only-of-type {\n",
              "        vertical-align: middle;\n",
              "    }\n",
              "\n",
              "    .dataframe tbody tr th {\n",
              "        vertical-align: top;\n",
              "    }\n",
              "\n",
              "    .dataframe thead th {\n",
              "        text-align: right;\n",
              "    }\n",
              "</style>\n",
              "<table border=\"1\" class=\"dataframe\">\n",
              "  <thead>\n",
              "    <tr style=\"text-align: right;\">\n",
              "      <th></th>\n",
              "      <th>SUM(away_team_goal)</th>\n",
              "    </tr>\n",
              "  </thead>\n",
              "  <tbody>\n",
              "    <tr>\n",
              "      <th>0</th>\n",
              "      <td>30160</td>\n",
              "    </tr>\n",
              "  </tbody>\n",
              "</table>\n",
              "</div>"
            ],
            "text/plain": [
              "   SUM(away_team_goal)\n",
              "0                30160"
            ]
          },
          "execution_count": 14,
          "metadata": {},
          "output_type": "execute_result"
        }
      ],
      "source": [
        "#Ingrese la la consulta SQL entre un par de 3 comillas dobles: \"\"\"consulta SQL\"\"\" después de la palabra query =\n",
        "\n",
        "query = \"\"\" SELECT SUM(away_team_goal)\n",
        "            FROM Match \"\"\"\n",
        "\n",
        "#No modificar lo siguiente:\n",
        "sum_awayteam = pd.read_sql(query, conn)\n",
        "sum_awayteam"
      ]
    },
    {
      "cell_type": "markdown",
      "metadata": {
        "id": "qPUT8pfMbtc2"
      },
      "source": [
        "## 4.1.4 Práctica: Traer el promedio de goles hechos por los equipos locales y el promedio de goles hechos por los visitantes de la tabla Match\n",
        "\n",
        "Deben traer el promedio de goles hechos por los equipos locales `home_team_goal` y el promedio de goles hechos por los equipos visitantes `away_team_goal` almacenados en la tabla `Match` de la base de datos de Fútbol Europeo. La tabla de resultados deberá mostrar únicamente el número con el promedio de goles.\n",
        "\n",
        "Para ello deberán escribir la consulta SQL entre un par de 3 comillas dobles: `\"\"\"consulta SQL\"\"\"` después de la palabra `query =`\n",
        "\n",
        "Una vez que estén lo tengan listo, ejecuten (haciendo clic en ejecutar o Shift+Enter) el códido de abajo"
      ]
    },
    {
      "cell_type": "code",
      "execution_count": null,
      "metadata": {
        "colab": {
          "base_uri": "https://localhost:8080/",
          "height": 89
        },
        "id": "qvjbOBLHbtc2",
        "outputId": "b2b7ea2c-c70b-4155-c80d-87f4add55153",
        "trusted": true
      },
      "outputs": [
        {
          "data": {
            "text/html": [
              "<div>\n",
              "<style scoped>\n",
              "    .dataframe tbody tr th:only-of-type {\n",
              "        vertical-align: middle;\n",
              "    }\n",
              "\n",
              "    .dataframe tbody tr th {\n",
              "        vertical-align: top;\n",
              "    }\n",
              "\n",
              "    .dataframe thead th {\n",
              "        text-align: right;\n",
              "    }\n",
              "</style>\n",
              "<table border=\"1\" class=\"dataframe\">\n",
              "  <thead>\n",
              "    <tr style=\"text-align: right;\">\n",
              "      <th></th>\n",
              "      <th>AVG(away_team_goal)</th>\n",
              "      <th>AVG(home_team_goal)</th>\n",
              "    </tr>\n",
              "  </thead>\n",
              "  <tbody>\n",
              "    <tr>\n",
              "      <th>0</th>\n",
              "      <td>1.160938</td>\n",
              "      <td>1.544594</td>\n",
              "    </tr>\n",
              "  </tbody>\n",
              "</table>\n",
              "</div>"
            ],
            "text/plain": [
              "   AVG(away_team_goal)  AVG(home_team_goal)\n",
              "0             1.160938             1.544594"
            ]
          },
          "execution_count": 15,
          "metadata": {},
          "output_type": "execute_result"
        }
      ],
      "source": [
        "#Ingrese la la consulta SQL entre un par de 3 comillas dobles: \"\"\"consulta SQL\"\"\" después de la palabra query =\n",
        "\n",
        "query = \"\"\" SELECT AVG(away_team_goal), AVG(home_team_goal)\n",
        "            FROM Match \"\"\"\n",
        "\n",
        "\n",
        "#No modificar lo siguiente:\n",
        "avg_teamgoals = pd.read_sql(query, conn)\n",
        "avg_teamgoals\n"
      ]
    },
    {
      "cell_type": "markdown",
      "metadata": {
        "id": "8iLKCxQzbtc2"
      },
      "source": [
        "## 4.1.5 Práctica: Traer la máxima cantidad de goles que un equipo visitante anotó en los juegos de la tabla Match\n",
        "\n",
        "Deben traer la máxima cantidad de goles un equipo visitante `away_team_goal` almacenados en la tabla `Match` de la base de datos de Fútbol Europeo. La tabla de resultados deberá mostrar únicamente el número con cantidad de goles.\n",
        "\n",
        "Para ello deberán escribir la consulta SQL entre un par de 3 comillas dobles: `\"\"\"consulta SQL\"\"\"` después de la palabra `query =`\n",
        "\n",
        "Una vez que estén lo tengan listo, ejecuten (haciendo clic en ejecutar o Shift+Enter) el códido de abajo"
      ]
    },
    {
      "cell_type": "code",
      "execution_count": null,
      "metadata": {
        "colab": {
          "base_uri": "https://localhost:8080/",
          "height": 89
        },
        "id": "Up2ZVEeBbtc2",
        "outputId": "1b953240-5937-4a6f-bb09-cd4d6b4750fe",
        "trusted": true
      },
      "outputs": [
        {
          "data": {
            "text/html": [
              "<div>\n",
              "<style scoped>\n",
              "    .dataframe tbody tr th:only-of-type {\n",
              "        vertical-align: middle;\n",
              "    }\n",
              "\n",
              "    .dataframe tbody tr th {\n",
              "        vertical-align: top;\n",
              "    }\n",
              "\n",
              "    .dataframe thead th {\n",
              "        text-align: right;\n",
              "    }\n",
              "</style>\n",
              "<table border=\"1\" class=\"dataframe\">\n",
              "  <thead>\n",
              "    <tr style=\"text-align: right;\">\n",
              "      <th></th>\n",
              "      <th>MAX(away_team_goal)</th>\n",
              "    </tr>\n",
              "  </thead>\n",
              "  <tbody>\n",
              "    <tr>\n",
              "      <th>0</th>\n",
              "      <td>9</td>\n",
              "    </tr>\n",
              "  </tbody>\n",
              "</table>\n",
              "</div>"
            ],
            "text/plain": [
              "   MAX(away_team_goal)\n",
              "0                    9"
            ]
          },
          "execution_count": 16,
          "metadata": {},
          "output_type": "execute_result"
        }
      ],
      "source": [
        "#Ingrese la la consulta SQL entre un par de 3 comillas dobles: \"\"\"consulta SQL\"\"\" después de la palabra query =\n",
        "\n",
        "query = \"\"\" SELECT MAX(away_team_goal)\n",
        "            FROM Match \"\"\"\n",
        "\n",
        "#No modificar lo siguiente:\n",
        "max_teamgoals = pd.read_sql(query, conn)\n",
        "max_teamgoals"
      ]
    },
    {
      "cell_type": "markdown",
      "metadata": {
        "id": "g5KGkL7Kbtc2"
      },
      "source": [
        "# 5. Operaciones matemáticas\n",
        "\n",
        "Se pueden realizar operaciones matemáticas como: `+`, `-`, `*`, `/`, etc. Asimismo, estás operaciones pueden ser usadas en conjunto con las funciones agregativas/ métricas.  \n",
        "\n",
        "La sintaxis en la sentencia `SELECT` es así:\n",
        "\n",
        "* `+`\n",
        "\n",
        "`SELECT column1+column2`\n",
        "\n",
        "`FROM table_name`\n",
        "\n",
        "La sintaxis combinando con una métrica en la sentencia `SELECT` es así:\n",
        "\n",
        "* `AVG(+)`\n",
        "\n",
        "`SELECT AVG(column1+column2)`\n",
        "\n",
        "`FROM table_name`\n"
      ]
    },
    {
      "cell_type": "markdown",
      "metadata": {
        "id": "89eThWzbbtc2"
      },
      "source": [
        "## 5.1.1 Práctica: Traer el promedio de goles por partido de la tabla Match\n",
        "\n",
        "Deben traer el promedio de la suma de goles hechos por los equipos locales `home_team_goal` y visitantes `away_team_goal` en todos los juegos almacenados en la tabla `Match` de la base de datos de Fútbol Europeo. La tabla de resultados deberá mostrar únicamente el número con el promedio de goles por partido.\n",
        "\n",
        "Para ello deberán escribir la consulta SQL entre un par de 3 comillas dobles: `\"\"\"consulta SQL\"\"\"` después de la palabra `query =`\n",
        "\n",
        "Una vez que estén lo tengan listo, ejecuten (haciendo clic en ejecutar o Shift+Enter) el códido de abajo"
      ]
    },
    {
      "cell_type": "code",
      "execution_count": null,
      "metadata": {
        "colab": {
          "base_uri": "https://localhost:8080/",
          "height": 89
        },
        "id": "4a0nhUDmbtc3",
        "outputId": "732c90b3-3746-4dda-94b8-85cef185f21e",
        "trusted": true
      },
      "outputs": [
        {
          "data": {
            "text/html": [
              "<div>\n",
              "<style scoped>\n",
              "    .dataframe tbody tr th:only-of-type {\n",
              "        vertical-align: middle;\n",
              "    }\n",
              "\n",
              "    .dataframe tbody tr th {\n",
              "        vertical-align: top;\n",
              "    }\n",
              "\n",
              "    .dataframe thead th {\n",
              "        text-align: right;\n",
              "    }\n",
              "</style>\n",
              "<table border=\"1\" class=\"dataframe\">\n",
              "  <thead>\n",
              "    <tr style=\"text-align: right;\">\n",
              "      <th></th>\n",
              "      <th>AVG(home_team_goal+away_team_goal)</th>\n",
              "    </tr>\n",
              "  </thead>\n",
              "  <tbody>\n",
              "    <tr>\n",
              "      <th>0</th>\n",
              "      <td>2.705531</td>\n",
              "    </tr>\n",
              "  </tbody>\n",
              "</table>\n",
              "</div>"
            ],
            "text/plain": [
              "   AVG(home_team_goal+away_team_goal)\n",
              "0                            2.705531"
            ]
          },
          "execution_count": 17,
          "metadata": {},
          "output_type": "execute_result"
        }
      ],
      "source": [
        "#Ingrese la la consulta SQL entre un par de 3 comillas dobles: \"\"\"consulta SQL\"\"\" después de la palabra query =\n",
        "\n",
        "query = \"\"\" SELECT AVG(home_team_goal+away_team_goal)\n",
        "            FROM Match \"\"\"\n",
        "\n",
        "#No modificar lo siguiente:\n",
        "avg_sum_goals = pd.read_sql(query, conn)\n",
        "avg_sum_goals"
      ]
    },
    {
      "cell_type": "markdown",
      "metadata": {
        "id": "19nw2aHnbtc3"
      },
      "source": [
        "# 6. Sentencia WHERE\n",
        "\n",
        "La sentencia `WHERE` se utiliza para filtrar registros. Mediante esta sentencia, se extraen sólo aquellos registros que cumplen una condición específica.\n",
        "\n",
        "La sintaxis de `WHERE` es así:\n",
        "\n",
        "`SELECT column1, column2...`\n",
        "\n",
        "`FROM table_name`\n",
        "\n",
        "`WHERE condition;`\n",
        "\n",
        "\n",
        "## 6.1 Campos de texto (y fecha) vs  campos numéricos\n",
        "\n",
        "SQL requiere comillas simples alrededor de los valores del texto y fecha (la mayoría de los sistemas de bases de datos también permiten comillas dobles). Sin embargo, los campos numéricos no deben incluirse entre comillas.\n",
        "\n",
        "Ejemplos de sintaxis con campo númerico:\n",
        "\n",
        "`SELECT *`\n",
        "\n",
        "`FROM Customers`\n",
        "\n",
        "`WHERE CustomerId = 1;`\n",
        "\n",
        "Ejemplos de sintaxis con campo de texto:\n",
        "\n",
        "`SELECT *`\n",
        "\n",
        "`FROM Customers`\n",
        "\n",
        "`WHERE Country = 'Mexico';`\n"
      ]
    },
    {
      "cell_type": "markdown",
      "metadata": {
        "id": "BMKLw7Plbtc3"
      },
      "source": [
        "## 6.2.1 Ejemplo: Listar los jugadores que pesan 165 libras\n",
        "\n",
        "Queremos listar a los jugadores que cumplan con la condición de pesar 165 libras. En la tabla de resultados quiero ver los campos `id`,`player_name`, `birthday`, `height` y `weight` de los que cumplen la condición. Todos se encuentran en la tabla `Player`\n",
        "\n",
        "Ejecuta (haciendo clic en ejecutar o Shift+Enter) el códido de abajo"
      ]
    },
    {
      "cell_type": "code",
      "execution_count": null,
      "metadata": {
        "id": "XTmPhjMObtc3",
        "trusted": true,
        "outputId": "9f65a9b2-8b2f-49da-e896-b3ac0acb665a"
      },
      "outputs": [
        {
          "data": {
            "text/html": [
              "<div>\n",
              "<style scoped>\n",
              "    .dataframe tbody tr th:only-of-type {\n",
              "        vertical-align: middle;\n",
              "    }\n",
              "\n",
              "    .dataframe tbody tr th {\n",
              "        vertical-align: top;\n",
              "    }\n",
              "\n",
              "    .dataframe thead th {\n",
              "        text-align: right;\n",
              "    }\n",
              "</style>\n",
              "<table border=\"1\" class=\"dataframe\">\n",
              "  <thead>\n",
              "    <tr style=\"text-align: right;\">\n",
              "      <th></th>\n",
              "      <th>id</th>\n",
              "      <th>player_name</th>\n",
              "      <th>birthday</th>\n",
              "      <th>height</th>\n",
              "      <th>weight</th>\n",
              "    </tr>\n",
              "  </thead>\n",
              "  <tbody>\n",
              "    <tr>\n",
              "      <th>0</th>\n",
              "      <td>27</td>\n",
              "      <td>Abdelmalek Cherrad</td>\n",
              "      <td>1981-01-14 00:00:00</td>\n",
              "      <td>185.42</td>\n",
              "      <td>165</td>\n",
              "    </tr>\n",
              "    <tr>\n",
              "      <th>1</th>\n",
              "      <td>44</td>\n",
              "      <td>Abdoulaye Doucoure</td>\n",
              "      <td>1993-01-01 00:00:00</td>\n",
              "      <td>182.88</td>\n",
              "      <td>165</td>\n",
              "    </tr>\n",
              "    <tr>\n",
              "      <th>2</th>\n",
              "      <td>46</td>\n",
              "      <td>Abdoulaye Keita</td>\n",
              "      <td>1994-01-05 00:00:00</td>\n",
              "      <td>175.26</td>\n",
              "      <td>165</td>\n",
              "    </tr>\n",
              "    <tr>\n",
              "      <th>3</th>\n",
              "      <td>49</td>\n",
              "      <td>Abdoulwahid Sissoko</td>\n",
              "      <td>1990-03-20 00:00:00</td>\n",
              "      <td>182.88</td>\n",
              "      <td>165</td>\n",
              "    </tr>\n",
              "    <tr>\n",
              "      <th>4</th>\n",
              "      <td>58</td>\n",
              "      <td>Abdullah Al Hafith</td>\n",
              "      <td>1992-12-25 00:00:00</td>\n",
              "      <td>187.96</td>\n",
              "      <td>165</td>\n",
              "    </tr>\n",
              "    <tr>\n",
              "      <th>5</th>\n",
              "      <td>62</td>\n",
              "      <td>Abel Gomez</td>\n",
              "      <td>1982-02-20 00:00:00</td>\n",
              "      <td>182.88</td>\n",
              "      <td>165</td>\n",
              "    </tr>\n",
              "    <tr>\n",
              "      <th>6</th>\n",
              "      <td>67</td>\n",
              "      <td>Abel</td>\n",
              "      <td>1978-12-22 00:00:00</td>\n",
              "      <td>177.80</td>\n",
              "      <td>165</td>\n",
              "    </tr>\n",
              "    <tr>\n",
              "      <th>7</th>\n",
              "      <td>69</td>\n",
              "      <td>Abiola Dauda</td>\n",
              "      <td>1988-02-03 00:00:00</td>\n",
              "      <td>180.34</td>\n",
              "      <td>165</td>\n",
              "    </tr>\n",
              "    <tr>\n",
              "      <th>8</th>\n",
              "      <td>78</td>\n",
              "      <td>Abraham Paz Cruz</td>\n",
              "      <td>1979-03-14 00:00:00</td>\n",
              "      <td>177.80</td>\n",
              "      <td>165</td>\n",
              "    </tr>\n",
              "    <tr>\n",
              "      <th>9</th>\n",
              "      <td>84</td>\n",
              "      <td>Aco Stojkov</td>\n",
              "      <td>1983-04-29 00:00:00</td>\n",
              "      <td>177.80</td>\n",
              "      <td>165</td>\n",
              "    </tr>\n",
              "    <tr>\n",
              "      <th>10</th>\n",
              "      <td>110</td>\n",
              "      <td>Adam King</td>\n",
              "      <td>1995-10-11 00:00:00</td>\n",
              "      <td>180.34</td>\n",
              "      <td>165</td>\n",
              "    </tr>\n",
              "    <tr>\n",
              "      <th>11</th>\n",
              "      <td>119</td>\n",
              "      <td>Adam Matuschyk</td>\n",
              "      <td>1989-02-14 00:00:00</td>\n",
              "      <td>180.34</td>\n",
              "      <td>165</td>\n",
              "    </tr>\n",
              "    <tr>\n",
              "      <th>12</th>\n",
              "      <td>132</td>\n",
              "      <td>Adam Vass</td>\n",
              "      <td>1988-09-09 00:00:00</td>\n",
              "      <td>180.34</td>\n",
              "      <td>165</td>\n",
              "    </tr>\n",
              "    <tr>\n",
              "      <th>13</th>\n",
              "      <td>157</td>\n",
              "      <td>Adnan Januzaj</td>\n",
              "      <td>1995-02-05 00:00:00</td>\n",
              "      <td>182.88</td>\n",
              "      <td>165</td>\n",
              "    </tr>\n",
              "    <tr>\n",
              "      <th>14</th>\n",
              "      <td>169</td>\n",
              "      <td>Adrian Klepczynski</td>\n",
              "      <td>1981-04-01 00:00:00</td>\n",
              "      <td>187.96</td>\n",
              "      <td>165</td>\n",
              "    </tr>\n",
              "  </tbody>\n",
              "</table>\n",
              "</div>"
            ],
            "text/plain": [
              "     id          player_name             birthday  height  weight\n",
              "0    27   Abdelmalek Cherrad  1981-01-14 00:00:00  185.42     165\n",
              "1    44   Abdoulaye Doucoure  1993-01-01 00:00:00  182.88     165\n",
              "2    46      Abdoulaye Keita  1994-01-05 00:00:00  175.26     165\n",
              "3    49  Abdoulwahid Sissoko  1990-03-20 00:00:00  182.88     165\n",
              "4    58   Abdullah Al Hafith  1992-12-25 00:00:00  187.96     165\n",
              "5    62           Abel Gomez  1982-02-20 00:00:00  182.88     165\n",
              "6    67                 Abel  1978-12-22 00:00:00  177.80     165\n",
              "7    69         Abiola Dauda  1988-02-03 00:00:00  180.34     165\n",
              "8    78     Abraham Paz Cruz  1979-03-14 00:00:00  177.80     165\n",
              "9    84          Aco Stojkov  1983-04-29 00:00:00  177.80     165\n",
              "10  110            Adam King  1995-10-11 00:00:00  180.34     165\n",
              "11  119       Adam Matuschyk  1989-02-14 00:00:00  180.34     165\n",
              "12  132            Adam Vass  1988-09-09 00:00:00  180.34     165\n",
              "13  157        Adnan Januzaj  1995-02-05 00:00:00  182.88     165\n",
              "14  169   Adrian Klepczynski  1981-04-01 00:00:00  187.96     165"
            ]
          },
          "execution_count": 18,
          "metadata": {},
          "output_type": "execute_result"
        }
      ],
      "source": [
        "query = \"\"\"SELECT id, player_name, birthday, height, weight\n",
        "        FROM Player\n",
        "        WHERE weight = 165\n",
        "        LIMIT 15;\"\"\"\n",
        "\n",
        "players_weight = pd.read_sql(query, conn)\n",
        "players_weight"
      ]
    },
    {
      "cell_type": "markdown",
      "metadata": {
        "id": "eUdD7cCvbtc6"
      },
      "source": [
        "## 6.2.2 Práctica: Listar las temporadas en que un equipo visitante anotó 7 o más goles\n",
        "\n",
        "Deben listar las temporadas en que algún equipo visitante haya anotado 7 o más goles. La tabla de resultados deberá contener los campos `season`, `home_team_goal`, `away_team_goal` de la tabla `Match` de la base de datos de Fútbol Europeo.\n",
        "\n",
        "Para ello deberán escribir la consulta SQL entre un par de 3 comillas dobles: `\"\"\"consulta SQL\"\"\"` después de la palabra `query =`\n",
        "\n",
        "Una vez que estén lo tengan listo, ejecuten (haciendo clic en ejecutar o Shift+Enter) el códido de abajo"
      ]
    },
    {
      "cell_type": "code",
      "execution_count": null,
      "metadata": {
        "id": "T3H9e32Rbtc6",
        "trusted": true,
        "outputId": "c11add3c-dad3-4dfa-e7eb-c2193cb9e229"
      },
      "outputs": [
        {
          "data": {
            "text/html": [
              "<div>\n",
              "<style scoped>\n",
              "    .dataframe tbody tr th:only-of-type {\n",
              "        vertical-align: middle;\n",
              "    }\n",
              "\n",
              "    .dataframe tbody tr th {\n",
              "        vertical-align: top;\n",
              "    }\n",
              "\n",
              "    .dataframe thead th {\n",
              "        text-align: right;\n",
              "    }\n",
              "</style>\n",
              "<table border=\"1\" class=\"dataframe\">\n",
              "  <thead>\n",
              "    <tr style=\"text-align: right;\">\n",
              "      <th></th>\n",
              "      <th>season</th>\n",
              "      <th>home_team_goal</th>\n",
              "      <th>away_team_goal</th>\n",
              "    </tr>\n",
              "  </thead>\n",
              "  <tbody>\n",
              "    <tr>\n",
              "      <th>0</th>\n",
              "      <td>2012/2013</td>\n",
              "      <td>1</td>\n",
              "      <td>7</td>\n",
              "    </tr>\n",
              "    <tr>\n",
              "      <th>1</th>\n",
              "      <td>2014/2015</td>\n",
              "      <td>1</td>\n",
              "      <td>7</td>\n",
              "    </tr>\n",
              "    <tr>\n",
              "      <th>2</th>\n",
              "      <td>2014/2015</td>\n",
              "      <td>2</td>\n",
              "      <td>7</td>\n",
              "    </tr>\n",
              "    <tr>\n",
              "      <th>3</th>\n",
              "      <td>2015/2016</td>\n",
              "      <td>0</td>\n",
              "      <td>9</td>\n",
              "    </tr>\n",
              "    <tr>\n",
              "      <th>4</th>\n",
              "      <td>2010/2011</td>\n",
              "      <td>1</td>\n",
              "      <td>8</td>\n",
              "    </tr>\n",
              "    <tr>\n",
              "      <th>5</th>\n",
              "      <td>2013/2014</td>\n",
              "      <td>0</td>\n",
              "      <td>7</td>\n",
              "    </tr>\n",
              "    <tr>\n",
              "      <th>6</th>\n",
              "      <td>2010/2011</td>\n",
              "      <td>0</td>\n",
              "      <td>7</td>\n",
              "    </tr>\n",
              "    <tr>\n",
              "      <th>7</th>\n",
              "      <td>2013/2014</td>\n",
              "      <td>0</td>\n",
              "      <td>7</td>\n",
              "    </tr>\n",
              "    <tr>\n",
              "      <th>8</th>\n",
              "      <td>2010/2011</td>\n",
              "      <td>0</td>\n",
              "      <td>8</td>\n",
              "    </tr>\n",
              "    <tr>\n",
              "      <th>9</th>\n",
              "      <td>2011/2012</td>\n",
              "      <td>0</td>\n",
              "      <td>7</td>\n",
              "    </tr>\n",
              "    <tr>\n",
              "      <th>10</th>\n",
              "      <td>2014/2015</td>\n",
              "      <td>0</td>\n",
              "      <td>8</td>\n",
              "    </tr>\n",
              "    <tr>\n",
              "      <th>11</th>\n",
              "      <td>2014/2015</td>\n",
              "      <td>2</td>\n",
              "      <td>8</td>\n",
              "    </tr>\n",
              "    <tr>\n",
              "      <th>12</th>\n",
              "      <td>2015/2016</td>\n",
              "      <td>0</td>\n",
              "      <td>8</td>\n",
              "    </tr>\n",
              "    <tr>\n",
              "      <th>13</th>\n",
              "      <td>2008/2009</td>\n",
              "      <td>1</td>\n",
              "      <td>7</td>\n",
              "    </tr>\n",
              "    <tr>\n",
              "      <th>14</th>\n",
              "      <td>2009/2010</td>\n",
              "      <td>1</td>\n",
              "      <td>7</td>\n",
              "    </tr>\n",
              "    <tr>\n",
              "      <th>15</th>\n",
              "      <td>2015/2016</td>\n",
              "      <td>0</td>\n",
              "      <td>7</td>\n",
              "    </tr>\n",
              "  </tbody>\n",
              "</table>\n",
              "</div>"
            ],
            "text/plain": [
              "       season  home_team_goal  away_team_goal\n",
              "0   2012/2013               1               7\n",
              "1   2014/2015               1               7\n",
              "2   2014/2015               2               7\n",
              "3   2015/2016               0               9\n",
              "4   2010/2011               1               8\n",
              "5   2013/2014               0               7\n",
              "6   2010/2011               0               7\n",
              "7   2013/2014               0               7\n",
              "8   2010/2011               0               8\n",
              "9   2011/2012               0               7\n",
              "10  2014/2015               0               8\n",
              "11  2014/2015               2               8\n",
              "12  2015/2016               0               8\n",
              "13  2008/2009               1               7\n",
              "14  2009/2010               1               7\n",
              "15  2015/2016               0               7"
            ]
          },
          "execution_count": 27,
          "metadata": {},
          "output_type": "execute_result"
        }
      ],
      "source": [
        "#Ingrese la la consulta SQL entre un par de 3 comillas dobles: \"\"\"consulta SQL\"\"\" después de la palabra query =\n",
        "\n",
        "query = \"\"\" SELECT season, home_team_goal, away_team_goal\n",
        "            FROM Match\n",
        "            WHERE away_team_goal >= 7 \"\"\"\n",
        "\n",
        "\n",
        "\n",
        "#No modificar lo siguiente:\n",
        "away_team_goals = pd.read_sql(query, conn)\n",
        "away_team_goals\n",
        "\n"
      ]
    },
    {
      "cell_type": "markdown",
      "metadata": {
        "id": "v_N_nbuIbtc6"
      },
      "source": [
        "## 6.3 Operadores lógicos en WHERE\n",
        "\n",
        "La sentencia WHERE puede combinarse con los operadores lógicos: `AND`, `OR` y `NOT`. Los operadores `AND` y `OR` se utilizan para filtrar registros basados en más de una condición.\n",
        "* El operador `AND` muestra un registro si todas las condiciones separadas por `AND` son VERDADERA(s).\n",
        "* El operador `OR` muestra un registro si alguna de las condiciones separadas por `OR` es VERDADERA(s).\n",
        "* El operador `NOT` muestra un registro si la(s) condición(es) NO es VERDADERA(s).\n",
        "\n",
        "\n",
        "1. Sintaxis de`AND`:\n",
        "\n",
        "`SELECT column1, column2, ...`\n",
        "\n",
        "`FROM table_name`\n",
        "\n",
        "`WHERE condition1 AND condition2 AND condition3 ...;`\n",
        "\n",
        "\n",
        "2. Sintaxis de `OR`\n",
        "\n",
        "`SELECT column1, column2, ...`\n",
        "\n",
        "`FROM table_name`\n",
        "\n",
        "`WHERE condition1 OR condition2 ...;`\n",
        "\n",
        "3. Sintaxis de `NOT`\n",
        "\n",
        "`SELECT column1, column2, ...`\n",
        "\n",
        "`FROM table_name`\n",
        "\n",
        "`WHERE NOT condition;`"
      ]
    },
    {
      "cell_type": "markdown",
      "metadata": {
        "id": "DQSaI1vmbtc6"
      },
      "source": [
        "## 6.3.1 Práctica: Traer el Id de los equipos que desarrollan un dribbling normal y su velocidad de juego es balanceada\n",
        "\n",
        "Tomando la tabla `Team_Attributes` de la base de datos de Fútbol Europeo, deben obtener el `id`,`buildUpPlayDribblingClass` y `buildUpPlaySpeedClass`  de los equipos que tengan los siguientes atributos:\n",
        "* `buildUpPlayDribblingClass = 'Normal'`\n",
        "* `buildUpPlaySpeedClass = 'Balanced'`\n",
        "\n",
        "Para ello deberán escribir la consulta SQL entre un par de 3 comillas dobles: `\"\"\"consulta SQL\"\"\"` después de la palabra `query =`\n",
        "\n",
        "Una vez que estén lo tengan listo, ejecuten (haciendo clic en ejecutar o Shift+Enter) el códido de abajo"
      ]
    },
    {
      "cell_type": "code",
      "execution_count": null,
      "metadata": {
        "id": "YLRWuY90btc6",
        "trusted": true
      },
      "outputs": [],
      "source": [
        "#Ingrese la la consulta SQL entre un par de 3 comillas dobles: \"\"\"consulta SQL\"\"\" después de la palabra query =\n",
        "\n",
        "query =\n",
        "\n",
        "#No modificar lo siguiente:\n",
        "team_att_and = pd.read_sql(query, conn)\n",
        "team_att_and"
      ]
    },
    {
      "cell_type": "markdown",
      "metadata": {
        "id": "MikGXFoGbtc6"
      },
      "source": [
        "## 6.3.2 Práctica: Traer el Id de los equipos que desarrollan un juego de pase largo o su velocidad de juego es rápida\n",
        "\n",
        "Tomando la tabla `Team_Attributes` de la base de datos de Fútbol Europeo, deben obtener el `id`,`buildUpPlayPassingClass` y `buildUpPlaySpeedClass`  de los equipos que tengan los siguientes atributos:\n",
        "* `buildUpPlayPassingClass = 'Long'`\n",
        "* `buildUpPlaySpeedClass = 'Fast'`\n",
        "\n",
        "Para ello deberán escribir la consulta SQL entre un par de 3 comillas dobles: `\"\"\"consulta SQL\"\"\"` después de la palabra `query =`\n",
        "\n",
        "Una vez que estén lo tengan listo, ejecuten (haciendo clic en ejecutar o Shift+Enter) el códido de abajo"
      ]
    },
    {
      "cell_type": "code",
      "execution_count": null,
      "metadata": {
        "id": "4nIg9Xt_btc6",
        "trusted": true
      },
      "outputs": [],
      "source": [
        "#Ingrese la la consulta SQL entre un par de 3 comillas dobles: \"\"\"consulta SQL\"\"\" después de la palabra query =\n",
        "\n",
        "query =\n",
        "\n",
        "#No modificar lo siguiente:\n",
        "team_att_or = pd.read_sql(query, conn)\n",
        "team_att_or"
      ]
    },
    {
      "cell_type": "markdown",
      "metadata": {
        "id": "qwRMHMOybtc7"
      },
      "source": [
        "## 6.3.3 Práctica: Traer la tabla de países sin Bélgica\n",
        "\n",
        "Deben filtrar la tabla de países y traerla sin `Belgium`. La tabla de resultados deberá contener los campos `id` y `name` de la tabla `Country` de la base de datos de Fútbol Europeo.\n",
        "\n",
        "Para ello deberán escribir la consulta SQL entre un par de 3 comillas dobles: `\"\"\"consulta SQL\"\"\"` después de la palabra `query =`\n",
        "\n",
        "Una vez que estén lo tengan listo, ejecuten (haciendo clic en ejecutar o Shift+Enter) el códido de abajo"
      ]
    },
    {
      "cell_type": "code",
      "execution_count": null,
      "metadata": {
        "id": "t2dOTLA7btc7",
        "trusted": true
      },
      "outputs": [],
      "source": [
        "#Ingrese la la consulta SQL entre un par de 3 comillas dobles: \"\"\"consulta SQL\"\"\" después de la palabra query =\n",
        "\n",
        "query =\n",
        "\n",
        "#No modificar lo siguiente:\n",
        "countries_not = pd.read_sql(query, conn)\n",
        "countries_not"
      ]
    },
    {
      "cell_type": "markdown",
      "metadata": {
        "id": "o39x0N3pbtc7"
      },
      "source": [
        "## 6.4 Otros operadores que trabajan con la sentencia WHERE\n",
        "\n",
        "Los siguientes operadores también pueden ser utilizados en la sentencia WHERE:\n",
        "\n",
        "* | `=`       | Igual\n",
        "\n",
        "* | `>`       | Mayor que\n",
        "\n",
        "* | `<`       | Menor que\n",
        "\n",
        "* | `>=`      | Mayor o igual que  \n",
        "\n",
        "* | `<=`      | Menor o igual que\n",
        "\n",
        "* | `<>`      | No igual. *Nota: En algunas versiones de SQL este operador puede ser escrito como !=*\n",
        "\n",
        "* | `BETWEEN` | Entre cierto rango\n",
        "\n",
        "* | `LIKE`    | Para consultar los datos basados en información parcial, se utiliza el operador `LIKE` en la sentencia `WHERE`. Busca un patrón. El patrón va antes, después o entre un par de % (wildcard). Ejemplo: `LIKE 's%'` busca cualquier texto que comience con 's'. `LIKE '%er'` busca cualquier texto que termine con 'er'. Y `LIKE '%per%'` busca cualquier texto que contenga 'per'.\n",
        "\n",
        "* | `IN`      | Para especificar varios valores posibles para una columna o subquery. Ejemplo de sintaxis cuando se especifica varios valores:\n",
        "\n",
        "`SELECT column1\n",
        "FROM Table_name\n",
        "WHERE column1 IN (value1, value2);`.\n",
        "\n",
        "Ejemplo se sintaxis cuando se usa `IN` en una subquery:\n",
        "\n",
        "`SELECT TrackId, Name, AlbumId\n",
        "FROM Tracks\n",
        "WHERE AlbumId IN\n",
        "    (SELECT\tAlbumId\n",
        "    FROM Albums\n",
        "    WHERE ArtistId = 12);`."
      ]
    },
    {
      "cell_type": "markdown",
      "metadata": {
        "id": "HeA-nGnEbtc7"
      },
      "source": [
        "## 6.4.1 Práctica: Traer la tabla de países únicamente con Italia\n",
        "\n",
        "Deben filtrar la tabla de países y traer únicamente a `Italy`. La tabla de resultados deberá contener los campos `id` y `name` de la tabla `Country` de la base de datos de Fútbol Europeo.\n",
        "\n",
        "Para ello deberán escribir la consulta SQL entre un par de 3 comillas dobles: `\"\"\"consulta SQL\"\"\"` después de la palabra `query =`\n",
        "\n",
        "Una vez que estén lo tengan listo, ejecuten (haciendo clic en ejecutar o Shift+Enter) el códido de abajo\n"
      ]
    },
    {
      "cell_type": "code",
      "execution_count": null,
      "metadata": {
        "id": "qYM3K0WPbtc7",
        "trusted": true
      },
      "outputs": [],
      "source": [
        "#Ingrese la la consulta SQL entre un par de 3 comillas dobles: \"\"\"consulta SQL\"\"\" después de la palabra query =\n",
        "\n",
        "query =\n",
        "\n",
        "#No modificar lo siguiente:\n",
        "countries_equal = pd.read_sql(query, conn)\n",
        "countries_equal"
      ]
    },
    {
      "cell_type": "markdown",
      "metadata": {
        "id": "QAgPelJwbtc7"
      },
      "source": [
        "## 6.4.2 Práctica: Traer la tabla de países sin Polonia\n",
        "\n",
        "Deben traer la tabla de países sin `Poland`. La tabla de resultados deberá contener los campos `id` y `name` de la tabla `Country` de la base de datos de Fútbol Europeo. **No se debe utilizar `NOT`**.\n",
        "\n",
        "Para ello deberán escribir la consulta SQL entre un par de 3 comillas dobles: `\"\"\"consulta SQL\"\"\"` después de la palabra `query =`\n",
        "\n",
        "Una vez que estén lo tengan listo, ejecuten (haciendo clic en ejecutar o Shift+Enter) el códido de abajo\n",
        "\n"
      ]
    },
    {
      "cell_type": "code",
      "execution_count": null,
      "metadata": {
        "id": "eWbxq9uxbtc7",
        "trusted": true
      },
      "outputs": [],
      "source": [
        "#Ingrese la la consulta SQL entre un par de 3 comillas dobles: \"\"\"consulta SQL\"\"\" después de la palabra query =\n",
        "\n",
        "query =\n",
        "\n",
        "#No modificar lo siguiente:\n",
        "countries_dif = pd.read_sql(query, conn)\n",
        "countries_dif"
      ]
    },
    {
      "cell_type": "markdown",
      "metadata": {
        "id": "KTz2vdsbbtc7"
      },
      "source": [
        "## 6.4.3 Práctica: Listar los jugadores que pesen entre 174 y 176 libras\n",
        "\n",
        "Queremos listar a los jugadores que cumplan con la condición de pesar entre 174 y 176 libras. En la tabla de resultados quiero ver los campos `id`,`player_name`, `birthday`, `height` y `weight` de los que cumplen la condición. Todos se encuentran en la tabla `Player`. Asimismo, debemos limitar la consulta a 30 registros.\n",
        "\n",
        "Para ello deberán escribir la consulta SQL entre un par de 3 comillas dobles: `\"\"\"consulta SQL\"\"\"` después de la palabra `query =`\n",
        "\n",
        "Una vez que estén lo tengan listo, ejecuten (haciendo clic en ejecutar o Shift+Enter) el códido de abajo\n"
      ]
    },
    {
      "cell_type": "code",
      "execution_count": null,
      "metadata": {
        "id": "4TPkHG6Wbtc7",
        "trusted": true
      },
      "outputs": [],
      "source": [
        "#Ingrese la la consulta SQL entre un par de 3 comillas dobles: \"\"\"consulta SQL\"\"\" después de la palabra query =\n",
        "\n",
        "query =\n",
        "\n",
        "#No modificar lo siguiente:\n",
        "players_weight = pd.read_sql(query, conn)\n",
        "players_weight"
      ]
    },
    {
      "cell_type": "markdown",
      "metadata": {
        "id": "Fq90kSQ1btc8"
      },
      "source": [
        "## 6.4.4 Práctica: Listar a los Messi de la base de datos de jugadores\n",
        "\n",
        "Queremos listar a los jugadores que cumplan con la condición de tener la palabra 'Messi' en su nombre. En la tabla de resultados quiero ver los campos `id`,`player_name`, `birthday`, `height` y `weight` de los que cumplen la condición. Todos se encuentran en la tabla `Player`.\n",
        "\n",
        "Para ello deberán escribir la consulta SQL entre un par de 3 comillas dobles: `\"\"\"consulta SQL\"\"\"` después de la palabra `query =`\n",
        "\n",
        "Una vez que estén lo tengan listo, ejecuten (haciendo clic en ejecutar o Shift+Enter) el códido de abajo"
      ]
    },
    {
      "cell_type": "code",
      "execution_count": null,
      "metadata": {
        "id": "ZcYLkb-cbtc8",
        "trusted": true
      },
      "outputs": [],
      "source": [
        "#Ingrese la la consulta SQL entre un par de 3 comillas dobles: \"\"\"consulta SQL\"\"\" después de la palabra query =\n",
        "\n",
        "query =\n",
        "\n",
        "#No modificar lo siguiente:\n",
        "players_messi = pd.read_sql(query, conn)\n",
        "players_messi"
      ]
    },
    {
      "cell_type": "markdown",
      "metadata": {
        "id": "dmQewC1bbtc8"
      },
      "source": [
        "# Alias AS\n",
        "\n",
        "Los alias en SQL se utilizan para dar a una tabla o a una columna, un nombre temporal. Se utilizan a menudo para hacer más legibles los nombres de las columnas. Un alias sólo existe durante la duración de la consulta.\n",
        "\n",
        "Sintaxis de `AS`:\n",
        "\n",
        "`SELECT column_name AS alias_name`\n",
        "\n",
        "`FROM table_name AS other_alias;`\n"
      ]
    },
    {
      "cell_type": "markdown",
      "metadata": {
        "id": "ftGCyDmnbtc8"
      },
      "source": [
        "# 7. Sentencia ORDER BY\n",
        "\n",
        "La sentencia `ORDER BY` se utiliza para ordenar el conjunto de resultados en orden ascendente o descendente. Por defecto, los registros se ordenan en orden ascendente `ASC`. Para ordenar los registros en orden descendente, utilice la palabra `DESC`.\n",
        "\n",
        "Sintaxis de `ORDER BY`\n",
        "\n",
        "`SELECT column1, column2, ...`\n",
        "\n",
        "`FROM table_name`\n",
        "\n",
        "`WHERE condition`\n",
        "\n",
        "`ORDER BY column2 ASC`|`DESC;`\n"
      ]
    },
    {
      "cell_type": "markdown",
      "metadata": {
        "_cell_guid": "2c791a87-1a24-49b8-9e8a-59d6383bdd56",
        "_uuid": "ca37991951b15e842a35ea168273110328e88e7f",
        "id": "gH9-pkRJbtc8"
      },
      "source": [
        "## 7.1.1 Ejemplo: Listar a los equipos y ordenarlos por nombre\n",
        "\n",
        "\n",
        "Queremos listar a los equipos de la tabla `Team` y ordenarlos ascedentemente por nombre `team_long_name`. Adicionalmente, vamos a limitar la lista a 25 registros.\n",
        "\n",
        "Ejecuta (haciendo clic en ejecutar o Shift+Enter) el códido de abajo\n"
      ]
    },
    {
      "cell_type": "code",
      "execution_count": null,
      "metadata": {
        "_cell_guid": "f2850218-dbfa-432e-874d-af112f399137",
        "_uuid": "1ba6a54bf81ad1c0b1e8348cb2f7cc4365f5953a",
        "id": "BO71hmDEbtc8",
        "trusted": true
      },
      "outputs": [],
      "source": [
        "query = \"\"\"SELECT id, team_long_name AS team_name\n",
        "        FROM Team\n",
        "        ORDER BY team_long_name ASC\n",
        "        LIMIT 250;\"\"\"\n",
        "teams_orderby = pd.read_sql(query, conn)\n",
        "teams_orderby"
      ]
    },
    {
      "cell_type": "markdown",
      "metadata": {
        "id": "XgqtAgd2btc8"
      },
      "source": [
        "## 7.1.2 Práctica: Listar la tabla de países en orden descendente\n",
        "\n",
        "Deben listar la tabla `Country` de forma descendente `DESC` por el campos `name`. La tabla de resultados deberá contener los campos `id` y `name`.\n",
        "\n",
        "Para ello deberán escribir la consulta SQL entre un par de 3 comillas dobles: `\"\"\"consulta SQL\"\"\"` después de la palabra `query =`\n",
        "\n",
        "Una vez que estén lo tengan listo, ejecuten (haciendo clic en ejecutar o Shift+Enter) el códido de abajo"
      ]
    },
    {
      "cell_type": "code",
      "execution_count": null,
      "metadata": {
        "id": "Ddhp8PlSbtc8",
        "trusted": true
      },
      "outputs": [],
      "source": [
        "#Ingrese la la consulta SQL entre un par de 3 comillas dobles: \"\"\"consulta SQL\"\"\" después de la palabra query =\n",
        "\n",
        "query =\n",
        "\n",
        "#No modificar lo siguiente:\n",
        "teams_orderdesc = pd.read_sql(query, conn)\n",
        "teams_orderdesc"
      ]
    },
    {
      "cell_type": "markdown",
      "metadata": {
        "id": "n73iA8xlbtc8"
      },
      "source": [
        "## 7.1.3 Práctica: Listar el id de los 15 jugadores con menos peso\n",
        "\n",
        "Deben listar la tabla `Player` de forma ascendente `ASC` por el campo `weight`. La tabla de resultados deberá contener los campos `id`, `player_name` y `weight`.\n",
        "\n",
        "Para ello deberán escribir la consulta SQL entre un par de 3 comillas dobles: `\"\"\"consulta SQL\"\"\"` después de la palabra `query =`\n",
        "\n",
        "Una vez que estén lo tengan listo, ejecuten (haciendo clic en ejecutar o Shift+Enter) el códido de abajo"
      ]
    },
    {
      "cell_type": "code",
      "execution_count": null,
      "metadata": {
        "id": "W7dpjeMMbtc9",
        "trusted": true
      },
      "outputs": [],
      "source": [
        "#Ingrese la la consulta SQL entre un par de 3 comillas dobles: \"\"\"consulta SQL\"\"\" después de la palabra query =\n",
        "\n",
        "query =\n",
        "\n",
        "#No modificar lo siguiente:\n",
        "player_weightasc = pd.read_sql(query, conn)\n",
        "player_weightasc"
      ]
    },
    {
      "cell_type": "markdown",
      "metadata": {
        "id": "5j7w-5sgbtc9"
      },
      "source": [
        "## 7.1.4 Práctica: Listar el id de los 10 jugadores con mayor estatura\n",
        "\n",
        "Deben listar la tabla `Player` de forma descendente `DESC` por el campos `height`. La tabla de resultados deberá contener los campos `id`, `player_name` y `height`.\n",
        "\n",
        "Para ello deberán escribir la consulta SQL entre un par de 3 comillas dobles: `\"\"\"consulta SQL\"\"\"` después de la palabra `query =`\n",
        "\n",
        "Una vez que estén lo tengan listo, ejecuten (haciendo clic en ejecutar o Shift+Enter) el códido de abajo"
      ]
    },
    {
      "cell_type": "code",
      "execution_count": null,
      "metadata": {
        "id": "wXDaRis1btc9",
        "trusted": true
      },
      "outputs": [],
      "source": [
        "#Ingrese la la consulta SQL entre un par de 3 comillas dobles: \"\"\"consulta SQL\"\"\" después de la palabra query =\n",
        "\n",
        "query =\n",
        "\n",
        "#No modificar lo siguiente:\n",
        "player_heightdesc = pd.read_sql(query, conn)\n",
        "player_heightdesc"
      ]
    },
    {
      "cell_type": "markdown",
      "metadata": {
        "id": "YkF0UGyCbtc9"
      },
      "source": [
        "## 7.1.5 Práctica: Listar el id de los 10 jugadores con mayor estatura y ordenarlos alfabéticamente pero de forma descendente\n",
        "\n",
        "Deben listar la tabla `Player` de forma descendente `DESC` por el campos `height` y `player_name`. La tabla de resultados deberá contener los campos `id`, `player_name` y `height`.\n",
        "\n",
        "Para ello deberán escribir la consulta SQL entre un par de 3 comillas dobles: `\"\"\"consulta SQL\"\"\"` después de la palabra `query =`\n",
        "\n",
        "Una vez que estén lo tengan listo, ejecuten (haciendo clic en ejecutar o Shift+Enter) el códido de abajo"
      ]
    },
    {
      "cell_type": "code",
      "execution_count": null,
      "metadata": {
        "id": "141gEHQVbtc9",
        "trusted": true
      },
      "outputs": [],
      "source": [
        "#Ingrese la la consulta SQL entre un par de 3 comillas dobles: \"\"\"consulta SQL\"\"\" después de la palabra query =\n",
        "\n",
        "query =\n",
        "\n",
        "#No modificar lo siguiente:\n",
        "player_height_name = pd.read_sql(query, conn)\n",
        "player_height_name"
      ]
    },
    {
      "cell_type": "markdown",
      "metadata": {
        "id": "Ja3Kw_9sbtc9"
      },
      "source": [
        "# 8. Sentencia GROUP BY\n",
        "\n",
        "La sentencia `GROUP BY` agrupa las filas que tienen los mismos valores en filas de resumen, como \"encontrar el número de clientes en cada país\". Se utiliza sobre dimensiones y métricas para agrupar el conjunto de resultados en una o más columnas.\n",
        "\n",
        "Las dimensiones son todos aquellos valores que estamos describiendo en el `SELECT`. Y las métricas son que se utilizan a menudo con funciones agregativas (`COUNT`, `MAX`, `MIN`, `SUM`, `AVG`).\n",
        "\n",
        "Sintaxis de `GROUP BY`;\n",
        "\n",
        "`SELECT column1, column2, ...`\n",
        "\n",
        "`FROM table_name`\n",
        "\n",
        "`WHERE condition`\n",
        "\n",
        "`GROUP BY column1`\n",
        "\n",
        "`ORDER BY column2 ASC`|`DESC;`\n",
        "\n",
        "**Nota:** El uso de `WHERE` antes de `GROUP BY` hace que este se ejecute más rápido, ya que el motor de base de datos no se tomará el tiempo de agrupar cosas que no necesita.\n",
        "\n",
        "**Nota2:** Es muy importante utilizar las mismas dimensiones tanto en el `SELECT`, como en el `GROUP BY`. De lo contrario, la salida podría ser errónea."
      ]
    },
    {
      "cell_type": "markdown",
      "metadata": {
        "id": "b2tDzqEJbtc9"
      },
      "source": [
        "## 8.1.1 Ejemplo: Queremos conocer cuántos equipos tienen cada tipo de velocidad de juego\n",
        "\n",
        "Queremos conocer cuántos equipos de la tabla `Team_Attributes` tienen cada tipo de velocidad juego. Es decir: cuántos tienen `buildUpPlaySpeedClass = 'Fast'`, `buildUpPlaySpeedClass = 'Balanced'` y cuántos `buildUpPlaySpeedClass = 'Slow'`\n",
        "\n",
        "\n",
        "Ejecuta (haciendo clic en ejecutar o Shift+Enter) el códido de abajo"
      ]
    },
    {
      "cell_type": "code",
      "execution_count": null,
      "metadata": {
        "id": "sQCu9yIIbtc9",
        "trusted": true
      },
      "outputs": [],
      "source": [
        "query = \"\"\"SELECT buildUpPlaySpeedClass, COUNT(id)\n",
        "        FROM Team_Attributes\n",
        "        GROUP BY buildUpPlaySpeedClass;\"\"\"\n",
        "teams_speed = pd.read_sql(query, conn)\n",
        "teams_speed"
      ]
    },
    {
      "cell_type": "markdown",
      "metadata": {
        "id": "fi7Fk4Q5btc9"
      },
      "source": [
        "## 8.1.2 Práctica: Queremos conocer cuántos equipos tienen cada clase de juego defensivo\n",
        "\n",
        "Queremos conocer cuantos equipos de la tabla `Team_Attributes` que tienen cada clase de juego defensivo. Es decir: cuántos `defencePressureClass = 'Medium'`, `defencePressureClass = 'Deep'` y `defencePressureClass = 'High'`.\n",
        "\n",
        "\n",
        "Para ello deberán escribir la consulta SQL entre un par de 3 comillas dobles: `\"\"\"consulta SQL\"\"\"` después de la palabra `query =`\n",
        "\n",
        "Una vez que estén lo tengan listo, ejecuten (haciendo clic en ejecutar o Shift+Enter) el códido de abajo"
      ]
    },
    {
      "cell_type": "code",
      "execution_count": null,
      "metadata": {
        "id": "RgMIRjefbtc-",
        "trusted": true
      },
      "outputs": [],
      "source": [
        "#Ingrese la la consulta SQL entre un par de 3 comillas dobles: \"\"\"consulta SQL\"\"\" después de la palabra query =\n",
        "\n",
        "query =\n",
        "\n",
        "#No modificar lo siguiente:\n",
        "teams_defence = pd.read_sql(query, conn)\n",
        "teams_defence"
      ]
    },
    {
      "cell_type": "markdown",
      "metadata": {
        "id": "e-Wowfuebtc-"
      },
      "source": [
        "## 8.1.3 Práctica: Analítica básica de las temporadas\n",
        "\n",
        "Queremos realizar un sencillo análisis sobre la tabla `Match`. Se necesita obtener la siguiente información agrupada por  cada `season`:\n",
        "\n",
        "* Cuantas `stage` distintas tuvo y visualizarlo como `number_of_stages`\n",
        "* El promedio de los goles de equipos locales `home_team_goal` y visualizarlo como `avg_home_team_goals`\n",
        "* El promedio de los goles de equipos visitantes `away_team_goal` y visualizarlo como `avg_away_team_goals`\n",
        "* La suma total de goles realizados por los equipos locales y visitantes en la temporada, visualizandolo como `total_goals`.\n",
        "\n",
        "Asimismo, se requere ver la información de las temporadas más recientes primero.\n",
        "\n",
        "\n",
        "\n",
        "Para ello deberán escribir la consulta SQL entre un par de 3 comillas dobles: `\"\"\"consulta SQL\"\"\"` después de la palabra `query =`\n",
        "\n",
        "Una vez que estén lo tengan listo, ejecuten (haciendo clic en ejecutar o Shift+Enter) el códido de abajo\n"
      ]
    },
    {
      "cell_type": "code",
      "execution_count": null,
      "metadata": {
        "id": "VcQBmE2Tbtc-",
        "trusted": true
      },
      "outputs": [],
      "source": [
        "#Ingrese la la consulta SQL entre un par de 3 comillas dobles: \"\"\"consulta SQL\"\"\" después de la palabra query =\n",
        "\n",
        "query =\n",
        "\n",
        "#No modificar lo siguiente:\n",
        "stages_by_season = pd.read_sql(query, conn)\n",
        "stages_by_season"
      ]
    },
    {
      "cell_type": "markdown",
      "metadata": {
        "id": "jsG0TmQVbtc-"
      },
      "source": [
        "# 9. Sentencias JOIN\n",
        "\n",
        "`JOIN` se usa cuando se quiere conectar dos tablas entre sí. Funciona cuando tienes una clave común en cada una de ellas. Entender el concepto de Claves es crucial para conectar (unir) conjuntos de datos (tablas).\n",
        "\n",
        "*Recuerden: Una clave es un valor que podemos usar para referirnos a una fila o registro específico de una tabla.\n",
        "Puede consistir en un valor (celda) que generalmente es un `ID`, o de una combinación de valores que son únicos en la tabla (clave compuesta).*\n",
        "\n",
        "Sintaxis de `JOIN`;\n",
        "\n",
        "`SELECT first_table.column1, firts_table.column2, second_table.columnA, second_table.columnB ...`\n",
        "\n",
        "`FROM first_table (LEFT | RIGHT | FULL) JOIN second_table ON first_table.columnID = second_table.columnID;`\n",
        "\n",
        "\n",
        "## 9.1 Tipos de JOIN\n",
        "\n",
        "* `JOIN`: mantiene sólo los registros que coinciden con la condición (después del `ON`) en ambas tablas, y los registros de ambas tablas que no coincidan, no aparecerían en la tabla de resultado.\n",
        "* `LEFT JOIN`: devuelve todos los registros de la primera tabla (izquierda), y los registros coincidentes de la segunda tabla (derecha). El resultado es `NULL` del lado derecho, si no hay coincidencia.\n",
        "* `RIGHT JOIN`: devuelve todos los registros de la segunda tabla (derecha), y los registros coincidentes de la primera tabla (izquierda). El resultado es `NULL` del lado izquierdo, si no hay coincidencia.\n",
        "* `FULL JOIN`: devuelve todos los registros cuando hay una coincidencia en los registros de la primera tabla (izquierda) o segunda tabla (derecha). Nota: `FULL JOIN` puede potencialmente devolver conjuntos de resultados MUY grandes.\n",
        "    \n",
        " ![image.png](attachment:image.png)\n",
        "\n",
        "Cuando se quiere unir diferentes tablas, es necesario que pienses en lo siguiente:\n",
        "\n",
        "1. Decidir qué tipo de unión usar. Las más comunes son: `JOIN` y `LEFT JOIN`.\n",
        "2. Especificar el valor común que se utiliza para conectar las tablas (la clave).\n",
        "3. Asegurarse de que al menos uno de los valores tiene que ser una clave en su tabla.\n",
        "\n",
        "\n",
        "Y por último, ¡Paciencia! Usar los `JOIN` de forma incorrecta, es el error más común (y a veces peligroso) cuando se escriben consultas complicadas."
      ]
    },
    {
      "cell_type": "markdown",
      "metadata": {
        "id": "GD25Tfjgbtc-"
      },
      "source": [
        "## 9.2.1 Ejemplo: Lista de ligas y su país\n",
        "\n",
        "Queremos conocer a qué país corresponde cada liga. Para hacerlo, vamos a necesitar la información de las tablas `Country`y `League`, uniendolas por su clave en común: `Country.id = League.country_id`.\n",
        "\n",
        "Ejecuta (haciendo clic en ejecutar o Shift+Enter) el códido de abajo"
      ]
    },
    {
      "cell_type": "code",
      "execution_count": null,
      "metadata": {
        "id": "sflmfcwGbtc-",
        "trusted": true
      },
      "outputs": [],
      "source": [
        "query = \"\"\"SELECT L.id AS Id_League, L.name AS Nombre_League, C.name AS Pais\n",
        "        FROM League AS L\n",
        "        JOIN Country AS C ON C.id = L.country_id;\"\"\"\n",
        "\n",
        "country_leagues = pd.read_sql(query, conn)\n",
        "country_leagues"
      ]
    },
    {
      "cell_type": "markdown",
      "metadata": {
        "id": "Lp6Ciyp3btc-"
      },
      "source": [
        "## 9.2.2 Práctica: Comparación de cantidad de partidos jugados en cierta temporada de España y Bélgica\n",
        "\n",
        "Queremos realizar una comparación de la cantidad de partidos jugados en `season = '2008/2009'` entre los países `'Spain'` y `'Belgium'`. Los datos necesarios se encuentran en las tablas `Match` y `Country`.\n",
        "Asimismo, la tabla de resultados debe visualizarse de la siguiente manera:\n",
        "* la columna con el nombre del país debe llamarse `country_name`\n",
        "* la columna con el conteo de partidos debe llamarse `count_matches`\n",
        "* debemos visualizar al país con más partidos jugados en primer lugar\n",
        "\n",
        "\n",
        "Para ello deberán escribir la consulta SQL entre un par de 3 comillas dobles: `\"\"\"consulta SQL\"\"\"` después de la palabra `query =`\n",
        "\n",
        "Una vez que estén lo tengan listo, ejecuten (haciendo clic en ejecutar o Shift+Enter) el códido de abajo"
      ]
    },
    {
      "cell_type": "code",
      "execution_count": null,
      "metadata": {
        "id": "Qj-k8dZ7btc-",
        "trusted": true
      },
      "outputs": [],
      "source": [
        "#Ingrese la la consulta SQL entre un par de 3 comillas dobles: \"\"\"consulta SQL\"\"\" después de la palabra query =\n",
        "\n",
        "query =\n",
        "\n",
        "#No modificar lo siguiente:\n",
        "country_matches = pd.read_sql(query, conn)\n",
        "country_matches"
      ]
    },
    {
      "cell_type": "markdown",
      "metadata": {
        "id": "1ZKAi9OXbtc-"
      },
      "source": [
        "## 9.2.3 Práctica: Lista detallada de juegos\n",
        "\n",
        "Queremos un detalle de 10 juegos realizados en el país `Spain`, ordenado de forma ascendente por `date`.\n",
        "\n",
        "Lo que nos interesa ver es:\n",
        "* el `id` del encuentro,\n",
        "* el `Country.name` bajo alias `country_name`,\n",
        "* el `League.name` bajo alias `league_name`,\n",
        "* `season`,\n",
        "* `stage`,\n",
        "* `date`,\n",
        "* el `team_long_name` del equipo local bajo alias `home_team`,\n",
        "* el `team_long_name` del equipo visitante bajo alias `away_team`,\n",
        "* `home_team_goal` y\n",
        "* `away_team_goal`\n",
        "\n",
        "Esta información se encuentra repartida entre las tablas: `Match`, `Country`, `League` y `Team`. Teniendo en cuenta que las claves compartidas entre tablas son estas:\n",
        "\n",
        "* `Country.id = Match.country_id`\n",
        "\n",
        "* `League.id = Match.league_id`\n",
        "\n",
        "* `Team.team_api_id = Match.home_team_api_id`\n",
        "\n",
        "\n",
        "Para ello deberán escribir la consulta SQL entre un par de 3 comillas dobles: `\"\"\"consulta SQL\"\"\"` después de la palabra `query =`\n",
        "\n",
        "Una vez que estén lo tengan listo, ejecuten (haciendo clic en ejecutar o Shift+Enter) el códido de abajo"
      ]
    },
    {
      "cell_type": "markdown",
      "metadata": {
        "id": "d02SpA_Jbtc-"
      },
      "source": [
        "Algunas pistas o consejos para el ejercicio:\n",
        "En el ejercicio queremos mostrar sólo las columnas que nos interesan, así que en lugar de `*` usamos los nombres exactos.\n",
        "Algunas de las columnas tienen el mismo nombre (Ejemplo: `Country.name,League.name`), por lo que las renombramos usando `AS`.\n",
        "\n",
        "Esta consulta tiene algunos `JOIN`. La razón es que la base de datos utilizada está diseñada en una estructura de estrella. Es decir, tiene una tabla (`Match`) con todo el \"rendimiento del encuentro\" y métricas, pero sólo IDs como claves foráneas. Mientras que toda la información descriptiva se encuentra almacenada en otras tablas como: `Country`, `League` y `Team`.\n",
        "\n",
        "Tengan en cuenta que se puede realizar 2 `JOIN` con la tabla `Team`. Esto es un truco, ya que usamos la misma tabla pero básicamente traemos dos copias diferentes de ella, renombrandola con `AS`. Ejemplo: `Team AS HomeTeam` y `Team AS AwayTeam`. La razón es que se necesitaba traer información de goles sobre dos valores diferentes (`home_team_api_id` y `away_team_api_id`), y si unimos a la misma tabla, significaría que son iguales entre sí.\n",
        "\n",
        "También podrías utilizar `LEFT JOIN` sobre la tabla `Team`. Depende de si prefieres mantener los datos de los juegos en la tabla de resultados, incluso si uno de los equipos no aparece en la tabla `Team`.\n",
        "\n",
        "`ORDER BY` se podría usar para definir el orden de la tabla de resultados.\n"
      ]
    },
    {
      "cell_type": "code",
      "execution_count": null,
      "metadata": {
        "id": "A0BMCzvUbtc_",
        "trusted": true
      },
      "outputs": [],
      "source": [
        "#Ingrese la la consulta SQL entre un par de 3 comillas dobles: \"\"\"consulta SQL\"\"\" después de la palabra query =\n",
        "query =\n",
        "\n",
        "#No modificar lo siguiente:\n",
        "detailed_matches = pd.read_sql(query, conn)\n",
        "detailed_matches\n"
      ]
    },
    {
      "cell_type": "markdown",
      "metadata": {
        "id": "C6obH3b1btc_"
      },
      "source": [
        "# 10. Sentencia HAVING\n",
        "\n",
        "La sentencia `HAVING` fue añadida a SQL porque la palabra clave `WHERE` no podía ser usada con funciones agregativas. Entonces, `HAVING` es como el `WHERE` para las funciones agregativas.\n",
        "\n",
        "La sintaxis de `HAVING` es así:\n",
        "\n",
        "`SELECT column_name(s)`\n",
        "\n",
        "`FROM table_name`\n",
        "\n",
        "`WHERE condition`\n",
        "\n",
        "`GROUP BY column_name(s)`\n",
        "\n",
        "`HAVING condition`\n",
        "\n",
        "`ORDER BY column_name(s); `\n",
        "\n",
        "\n",
        "`HAVING` añade otra capa de filtrado a los datos, esta vez sobre el resultado de la tabla **después** de la agrupación. Muchas veces se utiliza para limpiar la salida."
      ]
    },
    {
      "cell_type": "markdown",
      "metadata": {
        "id": "mFvyr1Csbtc_"
      },
      "source": [
        "# Función `ROUND()` para redondear\n",
        "\n",
        "En SQLite La función `ROUND()` se utiliza para redondear un número decimal dado a las posiciones decimales especificadas basándose en un núumero de decimales dado.\n",
        "\n",
        "La sintaxis, es la siguiente:\n",
        "`ROUND( number, decimal_value )`\n",
        "\n",
        "* number: Es el número decimal que necesitamos redondear.\n",
        "* decimal_value: Define el número de decimales a redondear.\n",
        "    * Si decimal_value es un número positivo significa que el número se redondea hasta cerca de su valor.\n",
        "    * En caso de que decimal_value se omita o sea negativo, se toma el valor por defecto que es cero (0) y el número se redondeará a cero (0) decimales, pero el número seguirá siendo un valor de punto flotante.\n",
        "\n",
        "\n",
        "## 10.1.1 Ejemplo: Análisis de goles por temporada en las ligas de España, Francia e Inglaterra.\n",
        "\n",
        "Queremos saber en qué temporada el promedio de goles de equipos locales estuvo entre 1.4 y 1.6, para las ligas de `Spain`, `France` y `England`.\n",
        "\n",
        "La tabla de resultados deberá mostrar:\n",
        "* La temporada `season`,\n",
        "* el `Country.name` bajo alias `country`,\n",
        "* el `League.name` bajo alias `league`,\n",
        "* el promedio de goles hechos por equipos locales, bajo el alias `avg_local_goals`, redondeando con 2 decimales,\n",
        "* el promedio de goles hechos por equipos visitantes, bajo el alias `avg_visitor_goals`, redondeando con 2 decimales,\n",
        "* el total de goles por temporada y liga, bajo el alias `total_goals`,\n",
        "\n",
        "Esta información se encuentra repartida entre las tablas: `Match`, `Country` y `League`. Teniendo en cuenta que las claves compartidas entre tablas son estas:\n",
        "\n",
        "* `Country.id = Match.country_id`\n",
        "\n",
        "* `League.id = Match.league_id`\n",
        "\n"
      ]
    },
    {
      "cell_type": "code",
      "execution_count": null,
      "metadata": {
        "id": "Jl1yugGKbtc_",
        "trusted": true
      },
      "outputs": [],
      "source": [
        "query = \"\"\"SELECT season,\n",
        "            Country.name AS Country,\n",
        "            League.name AS League,\n",
        "            ROUND(AVG(Match.home_team_goal),2) AS avg_local_goals,\n",
        "            ROUND(AVG(Match.away_team_goal),2) AS avg_visitor_goals,\n",
        "            SUM(home_team_goal+away_team_goal) AS total_goals\n",
        "        FROM Match\n",
        "        JOIN Country ON Country.id = Match.country_id\n",
        "        JOIN League ON League.id = Match.league_id\n",
        "        WHERE Country.name IN ('Spain', 'France', 'England')\n",
        "        GROUP BY season, League\n",
        "        HAVING avg_local_goals BETWEEN 1.4 AND 1.6 AND avg_visitor_goals BETWEEN 1.2 AND 1.6\n",
        "        ORDER BY season DESC;\"\"\"\n",
        "\n",
        "goals_by_season = pd.read_sql(query, conn)\n",
        "goals_by_season"
      ]
    },
    {
      "cell_type": "markdown",
      "metadata": {
        "id": "tg4-V7qybtc_"
      },
      "source": [
        "## 10.1.2 Práctica: Nos basaremos en ejemplo \"Lista detallada de juegos\", pero eliminaremos la información del partido y fechas, para comparar las ligas por temporadas.\n",
        "\n",
        "\n",
        "Para las ligas de los paises `Spain`, `Germany`, `France`, `Italy` y `England` que tengan un promedio de goles por partido mayor a 2.5, queremos conocer:\n",
        "* El nombre del país del equipo como `Country`,\n",
        "* El nombre de la liga en la que juega como `League`,\n",
        "* La cantidad de partidos (stages) como `Stages`,\n",
        "* La temporada como `Season`,\n",
        "* La cantidad de equipos como `number_of_teams`,\n",
        "* El promedio de goles realizados por los equipos locales como `avg_local_goals`,redondeando con 2 decimales,\n",
        "* El promedio de goles realizados por los equipos visitantes como `avg_visitor_goals`,redondeando con 2 decimales,\n",
        "* El promedio de goles por partido como `avg_goals`,redondeando con 2 decimales,\n",
        "* El promedio de gol diferencia por partido como `avg_goal_dif`,redondeando con 2 decimales,\n",
        "* El total de goles realizados en la temporada  como `total_goals`\n",
        "\n",
        "Esta información se encuentra repartida entre las tablas: `Match`, `Country`, `League` y `Team`. Teniendo en cuenta que las claves compartidas entre tablas son estas:\n",
        "\n",
        "* `Country.id = Match.country_id`\n",
        "\n",
        "* `League.id = Match.league_id`\n",
        "\n",
        "* `Team.team_api_id = Match.home_team_api_id`\n",
        "\n",
        "Ejecuta (haciendo clic en ejecutar o Shift+Enter) el códido de abajo"
      ]
    },
    {
      "cell_type": "code",
      "execution_count": null,
      "metadata": {
        "id": "3pw2SyClbtc_",
        "trusted": true
      },
      "outputs": [],
      "source": [
        "query =\n",
        "\n",
        "#No modificar lo siguiente:\n",
        "leages_by_season = pd.read_sql(query, conn)\n",
        "leages_by_season\n"
      ]
    },
    {
      "cell_type": "markdown",
      "metadata": {
        "id": "OpmwJUzRbtc_"
      },
      "source": [
        "## 10.1.3 Práctica: Análisis sobre los equipos que más goles realizaron jugando como locales\n",
        "\n",
        "\n",
        "Queremos un detalle de los equipos que jugando como locales en las ligas de `Spain`, `Germany` y `England`, hayan anotado más de 50 goles. Ordenar de forma descendente por temporada y por equipo con más goles realizados. Nos interesa conocer:\n",
        "\n",
        "* El nombre del país del equipo como `Country`\n",
        "* El nombre de la liga en la que juega como `League`\n",
        "* El nombre del equipo como `Team`\n",
        "* La cantidad de partidos (stages) como `Stages`\n",
        "* La temporada como `Season`\n",
        "* La suma de goles realizados en esa temporada, jugando como local bajo el alias `sum_goals`\n",
        "* El promedio de goles bajo alias `avg_goals`, redondeando con 2 decimales\n",
        "\n",
        "\n",
        "Esta información se encuentra repartida entre las tablas: `Match`, `Country`, `League` y `Team`. Teniendo en cuenta que las claves compartidas entre tablas son estas:\n",
        "\n",
        "* `Country.id = Match.country_id`\n",
        "\n",
        "* `League.id = Match.league_id`\n",
        "\n",
        "* `Team.team_api_id = Match.home_team_api_id`\n",
        "\n",
        "Ejecuta (haciendo clic en ejecutar o Shift+Enter) el códido de abajo\n"
      ]
    },
    {
      "cell_type": "code",
      "execution_count": null,
      "metadata": {
        "id": "MBxAIdQ0btc_",
        "trusted": true
      },
      "outputs": [],
      "source": [
        "#Ingrese la la consulta SQL entre un par de 3 comillas dobles: \"\"\"consulta SQL\"\"\" después de la palabra query =\n",
        "query =\n",
        "\n",
        "#No modificar lo siguiente:\n",
        "teams_by_season = pd.read_sql(query, conn)\n",
        "teams_by_season"
      ]
    },
    {
      "cell_type": "markdown",
      "metadata": {
        "id": "9AxbhQYpbtc_"
      },
      "source": [
        "# Función `DATE()`\n",
        "`DATE()`: Esta función extrae la parte de fecha de una expresión tipo date o tipo date time y devuelve una cadena de fecha en este formato: AAAA-MM-DD.\n",
        "\n",
        "Su sintaxis es la siguiente:\n",
        "\n",
        "`SELECT DATE(Datetime_field)\n",
        "FROM table;`\n",
        "\n",
        "## 10.1.4 Práctica: Análisis del cambio en overall rating y potential de Cristiano Ronaldo por edad.\n",
        "\n",
        "Se requiere visualizar el cambio de en `overall_rating` y `potential` de `Cristiano Ronaldo` por edad.\n",
        "\n",
        "Entonces, la tabla de resultado deberá contener los siguientes campos: `player_name`, la edad nombrada como `Age`, `overall_rating`, `potential` y `date` como `RatingDate`.\n",
        "\n",
        "Las tablas involucradas son `Player_Attributes` y `Player`. Que tienen una relación a través del campo `player_api_id` con mismo nombre en ambas tablas.\n",
        "\n",
        "\n",
        "¡Éxitos!\n",
        "\n",
        "\n"
      ]
    },
    {
      "cell_type": "code",
      "execution_count": null,
      "metadata": {
        "id": "x_5ONV1obtdA",
        "trusted": true
      },
      "outputs": [],
      "source": [
        "query =\n",
        "\n",
        "\n",
        "#No modificar lo siguiente:\n",
        "ratingCristiano = pd.read_sql(query, conn)\n",
        "ratingCristiano\n"
      ]
    },
    {
      "cell_type": "markdown",
      "metadata": {
        "id": "8iE9yWA7btdA"
      },
      "source": [
        "# 11. Orden de ejecución de las consultas\n",
        "\n",
        "Ahora que estamos familiarizados con la mayoría de las funcionalidades que se utilizan en una consulta, es muy importante entender el orden en que se ejecuta el código.\n",
        "\n",
        "Primero, el orden de cómo lo escribimos (recordatorio):\n",
        "* `SELECT`\n",
        "* `FROM`\n",
        "* `JOIN`\n",
        "* `WHERE`\n",
        "* `GROUP BY`\n",
        "* `HAVING`\n",
        "* `ORDER BY`\n",
        "* `LIMIT`\n",
        "\n",
        "Ahora, el orden real en que las cosas suceden. Primero, puedes pensar en esta parte como la creación de una nueva tabla temporal en la memoria:\n",
        "\n",
        "1. Definir qué tablas usar, y conectarlas (`FROM` + `JOIN`)\n",
        "2. Mantén sólo las filas que se aplican a las condiciones (`WHERE`)\n",
        "3. Agrupar los datos por el nivel requerido (si es necesario) (`GROUP BY`)\n",
        "4. Elige qué información quieres tener en la nueva tabla (`SELECT`). Puede tener sólo datos en bruto (si no hay agrupación), o una combinación de dimensiones (de la agrupación), y métricas.\n",
        "\n",
        "Ahora, tomamos eso para mostrarlo de la siguiente manera:\n",
        "\n",
        "5. Ordenar la salida de la nueva tabla (`ORDER BY`)\n",
        "6. Agregar más condiciones que filtrarían la nueva tabla creada (`HAVING`)\n",
        "7. Límite en número de filas (`LIMIT`)\n",
        "\n"
      ]
    },
    {
      "cell_type": "markdown",
      "metadata": {
        "id": "2vPYhcgtbtdA"
      },
      "source": [
        "# 12. Sentencia CASE WHEN en SELECT\n",
        "\n",
        "La sentencia `CASE WHEN` de SQLite evalúa una lista de condiciones y devuelve una expresión basada en el resultado de dicha evaluación.\n",
        "\n",
        "`CASE WHEN` es similar a la sentencia `IF-THEN-ELSE` de otros lenguajes de programación.\n",
        "\n",
        "Se puede utilizar la sentencia `CASE WHEN` junto a cualquier sentencia que acepte una validaciones. Por ejemplo, puede utilizar la expresión `CASE WHEN` en sentencias como `WHERE`, `ORDER BY`, `HAVING`, `SELECT` y también en `UPDATE` y `DELETE`.\n",
        "\n",
        "La sentencia `CASE` contiene una expresión opcional seguida de una o más cláusulas `WHEN [condition] THEN [expression]`, terminando con una cláusula opcional `ELSE` y la cláusula obligatoria `END`.\n",
        "\n",
        "Las sintaxis de `CASE` pueden ser de la siguiente manera:\n",
        "\n",
        "* Sintaxis de Simple `CASE`\n",
        "\n",
        "`CASE` case_expression\n",
        "`WHEN` when_expression_1 `THEN` result_1\n",
        "`WHEN` when_expression_2 `THEN` result_2\n",
        "[...]\n",
        "`ELSE` result_else\n",
        "`END`\n",
        "\n",
        "* Sintaxis de Condition `CASE`\n",
        "`CASE`\n",
        "`WHEN` bool_expression_1 `THEN` result_1\n",
        "`WHEN` bool_expression_2 `THEN` result_2\n",
        "[...]\n",
        "`ELSE` result_else\n",
        "`END`"
      ]
    },
    {
      "cell_type": "markdown",
      "metadata": {
        "id": "TIXW43GUbtdA"
      },
      "source": [
        "## 12.1 Ejemplo: Queremos una tabla que me indique los partidos jugados por el FC Barcelona, su rival, la fecha de juego y si perdió, ganó o empato.\n",
        "\n"
      ]
    },
    {
      "cell_type": "code",
      "execution_count": null,
      "metadata": {
        "id": "fPPQX-uMbtdA",
        "trusted": true
      },
      "outputs": [],
      "source": [
        "query= \"\"\"SELECT DATE(Match.date) as MatchDate,\n",
        "                Home.team_long_name AS  HomeTeam,\n",
        "                home_team_goal AS Home_goals,\n",
        "                Visitor.team_long_name AS VisitorTeam,\n",
        "                away_team_goal Visitor_goals,\n",
        "                CASE\n",
        "                    WHEN Home.team_api_id = 8634 AND home_team_goal < away_team_goal THEN 'Barca lost :('\n",
        "                    WHEN Home.team_api_id = 8634 AND home_team_goal > away_team_goal THEN 'Barca won'\n",
        "                    WHEN Visitor.team_api_id = 8634 AND home_team_goal < away_team_goal THEN 'Barca won'\n",
        "                    WHEN Visitor.team_api_id = 8634 AND home_team_goal > away_team_goal THEN 'Barca lost :('\n",
        "                    ELSE 'Tie'\n",
        "                END AS Outcome\n",
        "        FROM Match\n",
        "        LEFT JOIN Team AS Home on Home.team_api_id = Match.home_team_api_id\n",
        "        LEFT JOIN Team AS Visitor on Visitor.team_api_id = Match.away_team_api_id\n",
        "        WHERE (Visitor.team_api_id = 8634 OR Home.team_api_id = 8634) AND season = \"2012/2013\"\n",
        "        Order by MatchDate DESC\n",
        "        LIMIT 15;\"\"\"\n",
        "\n",
        "Barca_results = pd.read_sql(query, conn)\n",
        "Barca_results"
      ]
    },
    {
      "cell_type": "markdown",
      "metadata": {
        "id": "99XXwGGHbtdA"
      },
      "source": [
        "## 12.2 Práctica: Queremos una tabla que me indique los partidos jugados por el FC Barcelona como local contra el Real Madrid CF, la fecha de juego y si perdió, ganó o empató.\n",
        "\n",
        "La información que necesitamos está repartida entre las tablas Match y Team, cuya relación es:\n",
        "`Team.team_api_id = Match.home_team_api_id`\n",
        "\n",
        "Queremos ver a la fecha del partido como `MatchDate`, el nombre del equipo local como `HomeTeam` y del visitante como `VisitorTeam`. También queremos ver los goles y el resultado bajo alias `Outcome`.\n",
        "\n",
        "Datos necesarios:\n",
        "* FC Barcelona: `team_api_id = 8634`\n",
        "* Real Madrid CF: `team_api_id = 8633`\n",
        "\n",
        "¡Éxitos!"
      ]
    },
    {
      "cell_type": "code",
      "execution_count": null,
      "metadata": {
        "id": "f4driLuQbtdA",
        "trusted": true
      },
      "outputs": [],
      "source": [
        "query=\n",
        "\n",
        "#No modificar lo siguiente:\n",
        "BarcaMadrid_results = pd.read_sql(query, conn)\n",
        "BarcaMadrid_results"
      ]
    },
    {
      "cell_type": "markdown",
      "metadata": {
        "id": "asXOD4R7btdA"
      },
      "source": [
        "# 13. SUB QUERIES\n",
        "\n",
        "El uso de subconsultas es una herramienta esencial en SQL, ya que permite manipular los datos de formas muy avanzadas sin necesidad de ningún script externo, y es especialmente importante cuando tus tablas están estructuradas de tal forma que no se pueden unir directamente.\n",
        "\n",
        "## 13.1 Ejemplo: Rating de Cristiano Ronaldo y Lionel Messi versus los demás jugadores.\n",
        "\n",
        "Se requiere comparar el promedio de `overall_rating` y `potential` de `Cristiano Ronaldo` y `Lionel Messi` contra el promedio de los demás jugadores de la base de datos.\n",
        "\n",
        "Entonces, la tabla de resultado deberá contener los siguientes campos: `player_name`, el promedio redondeado con 2 decimales de `overall_rating` y el promedio redondeado con 2 decimales de `potential`. Mostrando a los demás jugadores como \"Others\".\n",
        "\n",
        "Las tablas involucradas son `Player_Attributes` y `Player`. Que tienen una relación en el campo `player_api_id` que tiene ese nombre en ambas tablas.\n",
        "\n",
        "\n",
        "¡Éxitos!"
      ]
    },
    {
      "cell_type": "code",
      "execution_count": null,
      "metadata": {
        "id": "CQm1Aw_2btdA",
        "trusted": true
      },
      "outputs": [],
      "source": [
        "query = \"\"\"SELECT CASE\n",
        "                   WHEN player_name = 'Cristiano Ronaldo' THEN 'Cristiano Ronaldo'\n",
        "                   WHEN player_name = 'Lionel Messi' THEN 'Lionel Messi'\n",
        "                   ELSE 'Others'\n",
        "                   END AS Player,\n",
        "           PA_Grouped.avg_overall_rating AS avg_overall_rating,\n",
        "           PA_Grouped.avg_potential AS avg_potential\n",
        "           FROM Player\n",
        "           LEFT JOIN\n",
        "                    (SELECT Player_Attributes.player_api_id,\n",
        "                         ROUND(avg(Player_Attributes.overall_rating),2) AS avg_overall_rating,\n",
        "                         ROUND(avg(Player_Attributes.potential),2) AS avg_potential\n",
        "                     FROM Player_Attributes\n",
        "                     GROUP BY Player_Attributes.player_api_id)\n",
        "                    AS PA_Grouped\n",
        "           ON Player.player_api_id = PA_Grouped.player_api_id\n",
        "           GROUP BY Player\n",
        "           ORDER BY Player;\"\"\"\n",
        "\n",
        "players_rating = pd.read_sql(query, conn)\n",
        "players_rating"
      ]
    },
    {
      "cell_type": "markdown",
      "metadata": {
        "id": "IzwOokrNbtdB"
      },
      "source": [
        "## 13.2 Práctica: Comparación de tipo de juego entre el FC Barcelona y Real Madrid FC - SUB QUERY\n",
        "\n",
        "Como práctica del uso de `CASE WHEN`, se requiere simular la asignación de clase de juego de acuerdo a los siguientes ratings.\n",
        "Para el rating buildUpPlaySpeed que debe ser mostrado como PlaySpeed, se considera lo siguiente:\n",
        "\n",
        "* `buildUpPlaySpeed >= 70` como `Fast`\n",
        "* `buildUpPlaySpeed <= 30` como `Slow`\n",
        "* Sino como `Balanced`\n",
        "\n",
        "Para el rating buildUpPlayPassing que debe ser mostrado como PlayPassing, se considera lo siguiente:\n",
        "\n",
        "* `buildUpPlayPassing >= 70` como `Long`\n",
        "* `buildUpPlayPassing <= 30` como `Short`\n",
        "* Sino como `Mixed`\n",
        "\n",
        "Para el rating chanceCreationShooting que debe ser mostrado como CreationShooting, se considera lo siguiente:\n",
        "* `chanceCreationShooting >= 68` como `Lots`\n",
        "* `chanceCreationShooting <= 30` como `Little`\n",
        "* Sino como `Normal`\n",
        "\n",
        "Las tablas necesarias son: `Team_Attributes` y `Team`, cuya relación se da en `Team_Attributes.team_api_id = Team.team_api_id`.\n",
        "\n",
        "La tabla de resultados debe mostrar la fecha de rating como `RatingDate`, `team_api_id` como `TeamID` y `team_long_name` como `Team`. Además, debe estar agrupada por fecha de rating y equipo.\n",
        "\n",
        "¡Éxitos!\n"
      ]
    },
    {
      "cell_type": "code",
      "execution_count": null,
      "metadata": {
        "id": "u7qW_GCHbtdB",
        "trusted": true
      },
      "outputs": [],
      "source": [
        "query=\n",
        "\n",
        "#No modificar lo siguiente:\n",
        "subquery = pd.read_sql(query, conn)\n",
        "subquery"
      ]
    },
    {
      "cell_type": "markdown",
      "metadata": {
        "id": "d0lGdRihbtdB"
      },
      "source": [
        "## 13.3 Práctica: Comparación de tipo de juego entre el FC Barcelona y Real Madrid FC - WHERE\n",
        "\n",
        "En esta ocasión se requiere lo mismo que el ejericio anterior, pero mediante el uso de WHERE."
      ]
    },
    {
      "cell_type": "code",
      "execution_count": null,
      "metadata": {
        "id": "hZxXj0PKbtdB",
        "trusted": true
      },
      "outputs": [],
      "source": [
        "query=\n",
        "\n",
        "\n",
        "#No modificar lo siguiente:\n",
        "\n",
        "subquery2 = pd.read_sql(query, conn)\n",
        "subquery2"
      ]
    }
  ],
  "metadata": {
    "colab": {
      "provenance": [],
      "include_colab_link": true
    },
    "kaggle": {
      "accelerator": "none",
      "dataSources": [
        {
          "datasetId": 63,
          "sourceId": 589,
          "sourceType": "datasetVersion"
        }
      ],
      "dockerImageVersionId": 1302,
      "isGpuEnabled": false,
      "isInternetEnabled": false,
      "language": "python",
      "sourceType": "notebook"
    },
    "kernelspec": {
      "display_name": "Python 3",
      "language": "python",
      "name": "python3"
    },
    "language_info": {
      "codemirror_mode": {
        "name": "ipython",
        "version": 3
      },
      "file_extension": ".py",
      "mimetype": "text/x-python",
      "name": "python",
      "nbconvert_exporter": "python",
      "pygments_lexer": "ipython3",
      "version": "3.11.9"
    }
  },
  "nbformat": 4,
  "nbformat_minor": 0
}